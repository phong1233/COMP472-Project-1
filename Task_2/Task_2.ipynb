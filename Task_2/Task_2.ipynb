{
 "cells": [
  {
   "cell_type": "markdown",
   "id": "f852fbd5",
   "metadata": {},
   "source": [
    "# Task 2: Drug Classification"
   ]
  },
  {
   "cell_type": "markdown",
   "id": "e967b574",
   "metadata": {},
   "source": [
    "1. Download the Drug dataset on Moodle. This dataset, in csv format, contains features that are numerical, categorical and ordinal as well as one of 5 classes to predict: DrugA, DrugB, DrugC, DrugX, or DrugY."
   ]
  },
  {
   "cell_type": "code",
   "execution_count": 77,
   "id": "5b980adb",
   "metadata": {},
   "outputs": [],
   "source": [
    "import pandas as pd\n",
    "import numpy as np\n",
    "import matplotlib.pyplot as plt\n",
    "from sklearn.datasets import load_files\n",
    "from sklearn.model_selection import train_test_split\n",
    "from sklearn.naive_bayes import MultinomialNB\n",
    "from sklearn.metrics import confusion_matrix, ConfusionMatrixDisplay, classification_report, accuracy_score, f1_score\n",
    "import sklearn\n",
    "from sklearn.naive_bayes import GaussianNB\n",
    "from sklearn.tree import DecisionTreeClassifier\n",
    "from sklearn.model_selection import GridSearchCV\n",
    "from sklearn.linear_model import Perceptron\n",
    "from sklearn.neural_network import MLPClassifier"
   ]
  },
  {
   "cell_type": "markdown",
   "id": "eedf2916",
   "metadata": {},
   "source": [
    "2. Load the dataset in Python (you can use pandas.read csv)."
   ]
  },
  {
   "cell_type": "code",
   "execution_count": 78,
   "id": "14e82ea9",
   "metadata": {},
   "outputs": [],
   "source": [
    "df = pd.read_csv('drug200.csv')"
   ]
  },
  {
   "cell_type": "markdown",
   "id": "8ac01164",
   "metadata": {},
   "source": [
    "3. Plot the distribution of the instances in each class and store the graphic in a file called drug-distribution.pdf. You can use matplotlib.pyplot. This pre-analysis will allow you to determine if the classes are balanced, and which metric is more appropriate to use to evaluate the performance of your classifier."
   ]
  },
  {
   "cell_type": "code",
   "execution_count": 79,
   "id": "f708150b",
   "metadata": {
    "scrolled": true
   },
   "outputs": [
    {
     "data": {
      "image/png": "[encoded data removed]",
      "text/plain": [
       "<Figure size 432x288 with 1 Axes>"
      ]
     },
     "metadata": {
      "needs_background": "light"
     },
     "output_type": "display_data"
    }
   ],
   "source": [
    "drugs = sorted(df['Drug'].unique())\n",
    "drugA = df[df['Drug'] == 'drugA']\n",
    "drugB = df[df['Drug'] == 'drugB']\n",
    "drugC = df[df['Drug'] == 'drugC']\n",
    "drugX = df[df['Drug'] == 'drugX']\n",
    "drugY = df[df['Drug'] == 'drugY']\n",
    "\n",
    "plt.bar(drugs, [len(drugA), len(drugB), len(drugC), len(drugX), len(drugY)])\n",
    "plt.ylabel('Number of drugs')\n",
    "plt.title('Drugs Distribution')\n",
    "plt.savefig('drug-distribution.pdf')\n",
    "plt.show()"
   ]
  },
  {
   "cell_type": "markdown",
   "id": "517a9cf1",
   "metadata": {},
   "source": [
    "4. Convert all ordinal and nominal features in numerical format. Make sure that your converted format respects the ordering of ordinal features, and does not introduce any ordering for nominal features. You may want to take a look at pandas.get dummies and pandas.Categorical to do this."
   ]
  },
  {
   "cell_type": "code",
   "execution_count": 80,
   "id": "13db495c",
   "metadata": {
    "scrolled": true
   },
   "outputs": [
    {
     "data": {
      "text/html": [
       "<div>\n",
       "<style scoped>\n",
       "    .dataframe tbody tr th:only-of-type {\n",
       "        vertical-align: middle;\n",
       "    }\n",
       "\n",
       "    .dataframe tbody tr th {\n",
       "        vertical-align: top;\n",
       "    }\n",
       "\n",
       "    .dataframe thead th {\n",
       "        text-align: right;\n",
       "    }\n",
       "</style>\n",
       "<table border=\"1\" class=\"dataframe\">\n",
       "  <thead>\n",
       "    <tr style=\"text-align: right;\">\n",
       "      <th></th>\n",
       "      <th>Age</th>\n",
       "      <th>BP</th>\n",
       "      <th>Cholesterol</th>\n",
       "      <th>Na_to_K</th>\n",
       "      <th>Drug</th>\n",
       "      <th>Female</th>\n",
       "      <th>Male</th>\n",
       "    </tr>\n",
       "  </thead>\n",
       "  <tbody>\n",
       "    <tr>\n",
       "      <th>0</th>\n",
       "      <td>23</td>\n",
       "      <td>2</td>\n",
       "      <td>1</td>\n",
       "      <td>25.355</td>\n",
       "      <td>drugY</td>\n",
       "      <td>1</td>\n",
       "      <td>0</td>\n",
       "    </tr>\n",
       "    <tr>\n",
       "      <th>1</th>\n",
       "      <td>47</td>\n",
       "      <td>0</td>\n",
       "      <td>1</td>\n",
       "      <td>13.093</td>\n",
       "      <td>drugC</td>\n",
       "      <td>0</td>\n",
       "      <td>1</td>\n",
       "    </tr>\n",
       "    <tr>\n",
       "      <th>2</th>\n",
       "      <td>47</td>\n",
       "      <td>0</td>\n",
       "      <td>1</td>\n",
       "      <td>10.114</td>\n",
       "      <td>drugC</td>\n",
       "      <td>0</td>\n",
       "      <td>1</td>\n",
       "    </tr>\n",
       "    <tr>\n",
       "      <th>3</th>\n",
       "      <td>28</td>\n",
       "      <td>1</td>\n",
       "      <td>1</td>\n",
       "      <td>7.798</td>\n",
       "      <td>drugX</td>\n",
       "      <td>1</td>\n",
       "      <td>0</td>\n",
       "    </tr>\n",
       "    <tr>\n",
       "      <th>4</th>\n",
       "      <td>61</td>\n",
       "      <td>0</td>\n",
       "      <td>1</td>\n",
       "      <td>18.043</td>\n",
       "      <td>drugY</td>\n",
       "      <td>1</td>\n",
       "      <td>0</td>\n",
       "    </tr>\n",
       "    <tr>\n",
       "      <th>...</th>\n",
       "      <td>...</td>\n",
       "      <td>...</td>\n",
       "      <td>...</td>\n",
       "      <td>...</td>\n",
       "      <td>...</td>\n",
       "      <td>...</td>\n",
       "      <td>...</td>\n",
       "    </tr>\n",
       "    <tr>\n",
       "      <th>195</th>\n",
       "      <td>56</td>\n",
       "      <td>0</td>\n",
       "      <td>1</td>\n",
       "      <td>11.567</td>\n",
       "      <td>drugC</td>\n",
       "      <td>1</td>\n",
       "      <td>0</td>\n",
       "    </tr>\n",
       "    <tr>\n",
       "      <th>196</th>\n",
       "      <td>16</td>\n",
       "      <td>0</td>\n",
       "      <td>1</td>\n",
       "      <td>12.006</td>\n",
       "      <td>drugC</td>\n",
       "      <td>0</td>\n",
       "      <td>1</td>\n",
       "    </tr>\n",
       "    <tr>\n",
       "      <th>197</th>\n",
       "      <td>52</td>\n",
       "      <td>1</td>\n",
       "      <td>1</td>\n",
       "      <td>9.894</td>\n",
       "      <td>drugX</td>\n",
       "      <td>0</td>\n",
       "      <td>1</td>\n",
       "    </tr>\n",
       "    <tr>\n",
       "      <th>198</th>\n",
       "      <td>23</td>\n",
       "      <td>1</td>\n",
       "      <td>0</td>\n",
       "      <td>14.020</td>\n",
       "      <td>drugX</td>\n",
       "      <td>0</td>\n",
       "      <td>1</td>\n",
       "    </tr>\n",
       "    <tr>\n",
       "      <th>199</th>\n",
       "      <td>40</td>\n",
       "      <td>0</td>\n",
       "      <td>0</td>\n",
       "      <td>11.349</td>\n",
       "      <td>drugX</td>\n",
       "      <td>1</td>\n",
       "      <td>0</td>\n",
       "    </tr>\n",
       "  </tbody>\n",
       "</table>\n",
       "<p>200 rows × 7 columns</p>\n",
       "</div>"
      ],
      "text/plain": [
       "     Age  BP  Cholesterol  Na_to_K   Drug  Female  Male\n",
       "0     23   2            1   25.355  drugY       1     0\n",
       "1     47   0            1   13.093  drugC       0     1\n",
       "2     47   0            1   10.114  drugC       0     1\n",
       "3     28   1            1    7.798  drugX       1     0\n",
       "4     61   0            1   18.043  drugY       1     0\n",
       "..   ...  ..          ...      ...    ...     ...   ...\n",
       "195   56   0            1   11.567  drugC       1     0\n",
       "196   16   0            1   12.006  drugC       0     1\n",
       "197   52   1            1    9.894  drugX       0     1\n",
       "198   23   1            0   14.020  drugX       0     1\n",
       "199   40   0            0   11.349  drugX       1     0\n",
       "\n",
       "[200 rows x 7 columns]"
      ]
     },
     "execution_count": 80,
     "metadata": {},
     "output_type": "execute_result"
    }
   ],
   "source": [
    "parsed_df = pd.get_dummies(df, prefix=['Sex'], columns=['Sex'])\\\n",
    "                .rename(columns={\"Sex_F\": \"Female\", \"Sex_M\": \"Male\"})\n",
    "parsed_df['BP'] = pd.Categorical(parsed_df['BP'], ordered=True, categories=['LOW', 'NORMAL', 'HIGH']).codes\n",
    "parsed_df['Cholesterol'] = pd.Categorical(parsed_df['Cholesterol'], ordered=True, categories=['NORMAL', 'HIGH']).codes\n",
    "parsed_df"
   ]
  },
  {
   "cell_type": "markdown",
   "id": "3066301d",
   "metadata": {},
   "source": [
    "5. Split the dataset using train test split using the default parameter values."
   ]
  },
  {
   "cell_type": "code",
   "execution_count": 81,
   "id": "e7af06b8",
   "metadata": {},
   "outputs": [
    {
     "data": {
      "text/plain": [
       "array([[34.   ,  2.   ,  1.   , 18.703,  0.   ,  1.   ],\n",
       "       [66.   ,  2.   ,  1.   , 16.347,  0.   ,  1.   ],\n",
       "       [21.   ,  2.   ,  0.   , 28.632,  1.   ,  0.   ],\n",
       "       [74.   ,  2.   ,  1.   ,  9.567,  0.   ,  1.   ],\n",
       "       [54.   ,  1.   ,  1.   , 24.658,  0.   ,  1.   ],\n",
       "       [36.   ,  2.   ,  1.   , 11.198,  1.   ,  0.   ],\n",
       "       [37.   ,  2.   ,  1.   , 13.091,  1.   ,  0.   ],\n",
       "       [43.   ,  0.   ,  0.   , 19.368,  0.   ,  1.   ],\n",
       "       [31.   ,  2.   ,  0.   , 11.227,  0.   ,  1.   ],\n",
       "       [50.   ,  1.   ,  0.   , 15.79 ,  0.   ,  1.   ],\n",
       "       [73.   ,  1.   ,  1.   , 19.221,  1.   ,  0.   ],\n",
       "       [48.   ,  2.   ,  0.   , 10.446,  0.   ,  1.   ],\n",
       "       [73.   ,  2.   ,  1.   , 18.348,  1.   ,  0.   ],\n",
       "       [43.   ,  1.   ,  0.   , 12.859,  0.   ,  1.   ],\n",
       "       [57.   ,  1.   ,  0.   , 25.893,  1.   ,  0.   ],\n",
       "       [51.   ,  2.   ,  1.   , 18.295,  0.   ,  1.   ],\n",
       "       [63.   ,  1.   ,  1.   , 25.917,  0.   ,  1.   ],\n",
       "       [74.   ,  0.   ,  0.   , 11.939,  0.   ,  1.   ],\n",
       "       [23.   ,  2.   ,  1.   ,  8.011,  0.   ,  1.   ],\n",
       "       [58.   ,  2.   ,  0.   , 14.239,  1.   ,  0.   ],\n",
       "       [61.   ,  0.   ,  0.   ,  7.34 ,  1.   ,  0.   ],\n",
       "       [22.   ,  1.   ,  1.   ,  8.607,  1.   ,  0.   ],\n",
       "       [43.   ,  0.   ,  1.   , 15.376,  0.   ,  1.   ],\n",
       "       [65.   ,  2.   ,  0.   , 11.34 ,  0.   ,  1.   ],\n",
       "       [70.   ,  2.   ,  1.   ,  9.849,  0.   ,  1.   ],\n",
       "       [64.   ,  1.   ,  1.   ,  7.761,  0.   ,  1.   ],\n",
       "       [31.   ,  2.   ,  0.   , 17.069,  0.   ,  1.   ],\n",
       "       [41.   ,  0.   ,  1.   , 11.037,  0.   ,  1.   ],\n",
       "       [41.   ,  1.   ,  0.   , 22.905,  1.   ,  0.   ],\n",
       "       [67.   ,  0.   ,  0.   , 20.693,  0.   ,  1.   ],\n",
       "       [47.   ,  0.   ,  0.   , 33.542,  0.   ,  1.   ],\n",
       "       [68.   ,  1.   ,  0.   , 27.05 ,  1.   ,  0.   ],\n",
       "       [50.   ,  1.   ,  1.   , 12.703,  1.   ,  0.   ],\n",
       "       [20.   ,  0.   ,  0.   , 11.686,  1.   ,  0.   ],\n",
       "       [16.   ,  2.   ,  0.   , 15.516,  1.   ,  0.   ],\n",
       "       [37.   ,  0.   ,  0.   , 12.006,  1.   ,  0.   ],\n",
       "       [49.   ,  0.   ,  0.   , 13.598,  0.   ,  1.   ],\n",
       "       [42.   ,  0.   ,  0.   , 29.271,  1.   ,  0.   ],\n",
       "       [61.   ,  0.   ,  1.   , 18.043,  1.   ,  0.   ],\n",
       "       [60.   ,  2.   ,  1.   , 13.303,  1.   ,  0.   ],\n",
       "       [66.   ,  1.   ,  0.   ,  8.107,  1.   ,  0.   ],\n",
       "       [36.   ,  1.   ,  1.   , 16.753,  1.   ,  0.   ],\n",
       "       [74.   ,  0.   ,  1.   , 20.942,  1.   ,  0.   ],\n",
       "       [36.   ,  0.   ,  0.   , 11.424,  0.   ,  1.   ],\n",
       "       [18.   ,  1.   ,  0.   ,  8.75 ,  1.   ,  0.   ],\n",
       "       [39.   ,  1.   ,  0.   , 17.225,  1.   ,  0.   ],\n",
       "       [51.   ,  1.   ,  1.   , 13.597,  1.   ,  0.   ],\n",
       "       [65.   ,  0.   ,  0.   , 13.769,  1.   ,  0.   ],\n",
       "       [72.   ,  2.   ,  0.   ,  9.677,  0.   ,  1.   ],\n",
       "       [24.   ,  2.   ,  0.   ,  9.475,  0.   ,  1.   ],\n",
       "       [53.   ,  0.   ,  1.   , 22.963,  0.   ,  1.   ],\n",
       "       [28.   ,  0.   ,  1.   , 19.796,  1.   ,  0.   ],\n",
       "       [38.   ,  0.   ,  0.   , 29.875,  1.   ,  0.   ],\n",
       "       [28.   ,  1.   ,  1.   , 19.675,  1.   ,  0.   ],\n",
       "       [25.   ,  1.   ,  1.   , 19.011,  0.   ,  1.   ],\n",
       "       [20.   ,  2.   ,  0.   , 35.639,  0.   ,  1.   ],\n",
       "       [23.   ,  2.   ,  1.   , 25.355,  1.   ,  0.   ],\n",
       "       [28.   ,  2.   ,  0.   , 18.809,  1.   ,  0.   ],\n",
       "       [23.   ,  1.   ,  0.   , 14.02 ,  0.   ,  1.   ],\n",
       "       [32.   ,  0.   ,  0.   , 10.84 ,  1.   ,  0.   ],\n",
       "       [40.   ,  2.   ,  1.   , 27.826,  0.   ,  1.   ],\n",
       "       [51.   ,  0.   ,  0.   , 23.003,  1.   ,  0.   ],\n",
       "       [65.   ,  2.   ,  0.   , 31.876,  1.   ,  0.   ],\n",
       "       [59.   ,  0.   ,  1.   , 10.444,  1.   ,  0.   ],\n",
       "       [70.   ,  2.   ,  1.   , 13.967,  0.   ,  1.   ],\n",
       "       [40.   ,  0.   ,  0.   , 11.349,  1.   ,  0.   ],\n",
       "       [52.   ,  1.   ,  1.   ,  9.894,  0.   ,  1.   ],\n",
       "       [55.   ,  1.   ,  0.   ,  7.261,  0.   ,  1.   ],\n",
       "       [23.   ,  1.   ,  1.   , 12.26 ,  0.   ,  1.   ],\n",
       "       [60.   ,  1.   ,  0.   , 10.091,  0.   ,  1.   ],\n",
       "       [72.   ,  0.   ,  1.   , 16.31 ,  0.   ,  1.   ],\n",
       "       [53.   ,  2.   ,  0.   , 12.495,  1.   ,  0.   ],\n",
       "       [74.   ,  2.   ,  0.   , 15.436,  0.   ,  1.   ],\n",
       "       [47.   ,  0.   ,  0.   , 30.568,  0.   ,  1.   ],\n",
       "       [22.   ,  0.   ,  1.   ,  8.151,  0.   ,  1.   ],\n",
       "       [34.   ,  1.   ,  1.   , 22.456,  0.   ,  1.   ],\n",
       "       [37.   ,  2.   ,  0.   , 23.091,  1.   ,  0.   ],\n",
       "       [46.   ,  1.   ,  0.   ,  7.285,  0.   ,  1.   ],\n",
       "       [45.   ,  0.   ,  1.   , 17.951,  0.   ,  1.   ],\n",
       "       [58.   ,  2.   ,  1.   , 19.416,  1.   ,  0.   ],\n",
       "       [33.   ,  0.   ,  1.   , 33.486,  1.   ,  0.   ],\n",
       "       [67.   ,  1.   ,  1.   , 15.891,  1.   ,  0.   ],\n",
       "       [57.   ,  0.   ,  0.   , 19.128,  0.   ,  1.   ],\n",
       "       [32.   ,  2.   ,  0.   ,  9.445,  0.   ,  1.   ],\n",
       "       [40.   ,  1.   ,  1.   , 10.103,  1.   ,  0.   ],\n",
       "       [23.   ,  1.   ,  1.   , 31.686,  0.   ,  1.   ],\n",
       "       [35.   ,  1.   ,  0.   ,  7.845,  0.   ,  1.   ],\n",
       "       [15.   ,  2.   ,  0.   , 16.725,  1.   ,  0.   ],\n",
       "       [59.   ,  1.   ,  1.   , 13.884,  1.   ,  0.   ],\n",
       "       [68.   ,  2.   ,  0.   , 10.189,  1.   ,  0.   ],\n",
       "       [32.   ,  2.   ,  0.   , 25.974,  1.   ,  0.   ],\n",
       "       [39.   ,  1.   ,  0.   ,  9.709,  1.   ,  0.   ],\n",
       "       [39.   ,  0.   ,  0.   , 22.697,  1.   ,  0.   ],\n",
       "       [23.   ,  1.   ,  1.   , 16.85 ,  0.   ,  1.   ],\n",
       "       [62.   ,  0.   ,  0.   , 27.183,  0.   ,  1.   ],\n",
       "       [60.   ,  2.   ,  1.   , 13.934,  0.   ,  1.   ],\n",
       "       [64.   ,  2.   ,  0.   , 20.932,  0.   ,  1.   ],\n",
       "       [34.   ,  0.   ,  0.   , 12.923,  1.   ,  0.   ],\n",
       "       [24.   ,  1.   ,  1.   , 10.605,  1.   ,  0.   ],\n",
       "       [37.   ,  0.   ,  0.   , 16.724,  0.   ,  1.   ],\n",
       "       [22.   ,  1.   ,  1.   , 11.953,  0.   ,  1.   ],\n",
       "       [23.   ,  0.   ,  1.   ,  7.298,  0.   ,  1.   ],\n",
       "       [26.   ,  2.   ,  0.   , 12.307,  1.   ,  0.   ],\n",
       "       [32.   ,  2.   ,  0.   , 10.292,  1.   ,  0.   ],\n",
       "       [16.   ,  0.   ,  1.   , 12.006,  0.   ,  1.   ],\n",
       "       [58.   ,  0.   ,  1.   , 38.247,  1.   ,  0.   ],\n",
       "       [69.   ,  0.   ,  1.   , 15.478,  0.   ,  1.   ],\n",
       "       [29.   ,  2.   ,  1.   , 29.45 ,  1.   ,  0.   ],\n",
       "       [58.   ,  0.   ,  1.   , 26.645,  1.   ,  0.   ],\n",
       "       [43.   ,  2.   ,  1.   , 13.972,  0.   ,  1.   ],\n",
       "       [72.   ,  0.   ,  0.   , 14.642,  1.   ,  0.   ],\n",
       "       [15.   ,  2.   ,  0.   , 17.206,  0.   ,  1.   ],\n",
       "       [36.   ,  2.   ,  0.   , 15.49 ,  1.   ,  0.   ],\n",
       "       [39.   ,  2.   ,  1.   ,  9.664,  0.   ,  1.   ],\n",
       "       [30.   ,  1.   ,  1.   , 10.443,  1.   ,  0.   ],\n",
       "       [47.   ,  2.   ,  1.   , 10.403,  0.   ,  1.   ],\n",
       "       [50.   ,  1.   ,  0.   , 17.211,  1.   ,  0.   ],\n",
       "       [67.   ,  1.   ,  0.   , 10.898,  0.   ,  1.   ],\n",
       "       [47.   ,  1.   ,  0.   ,  6.683,  1.   ,  0.   ],\n",
       "       [68.   ,  2.   ,  1.   , 11.009,  0.   ,  1.   ],\n",
       "       [34.   ,  2.   ,  0.   , 19.199,  1.   ,  0.   ],\n",
       "       [31.   ,  2.   ,  0.   , 11.871,  0.   ,  1.   ],\n",
       "       [28.   ,  1.   ,  1.   , 27.064,  0.   ,  1.   ],\n",
       "       [65.   ,  2.   ,  0.   , 34.997,  0.   ,  1.   ],\n",
       "       [38.   ,  0.   ,  1.   , 18.295,  0.   ,  1.   ],\n",
       "       [72.   ,  0.   ,  1.   ,  6.769,  0.   ,  1.   ],\n",
       "       [20.   ,  2.   ,  1.   , 11.262,  1.   ,  0.   ],\n",
       "       [49.   ,  0.   ,  0.   , 11.014,  0.   ,  1.   ],\n",
       "       [60.   ,  1.   ,  1.   , 15.171,  0.   ,  1.   ],\n",
       "       [18.   ,  2.   ,  0.   , 24.276,  1.   ,  0.   ],\n",
       "       [46.   ,  2.   ,  1.   , 34.686,  1.   ,  0.   ],\n",
       "       [16.   ,  2.   ,  0.   , 19.007,  0.   ,  1.   ],\n",
       "       [49.   ,  2.   ,  0.   ,  6.269,  0.   ,  1.   ],\n",
       "       [56.   ,  0.   ,  1.   , 15.015,  0.   ,  1.   ],\n",
       "       [28.   ,  1.   ,  1.   , 12.879,  1.   ,  0.   ],\n",
       "       [57.   ,  2.   ,  0.   ,  9.945,  1.   ,  0.   ],\n",
       "       [51.   ,  2.   ,  0.   , 11.343,  0.   ,  1.   ],\n",
       "       [49.   ,  1.   ,  0.   ,  9.381,  1.   ,  0.   ],\n",
       "       [50.   ,  1.   ,  0.   , 12.295,  1.   ,  0.   ],\n",
       "       [59.   ,  2.   ,  1.   , 13.935,  0.   ,  1.   ],\n",
       "       [45.   ,  0.   ,  0.   , 10.017,  0.   ,  1.   ],\n",
       "       [57.   ,  1.   ,  1.   , 14.216,  1.   ,  0.   ],\n",
       "       [37.   ,  0.   ,  0.   ,  8.968,  0.   ,  1.   ],\n",
       "       [26.   ,  0.   ,  1.   , 14.16 ,  1.   ,  0.   ],\n",
       "       [70.   ,  1.   ,  1.   , 20.489,  1.   ,  0.   ],\n",
       "       [26.   ,  0.   ,  0.   , 20.909,  0.   ,  1.   ],\n",
       "       [19.   ,  2.   ,  0.   , 25.969,  1.   ,  0.   ],\n",
       "       [64.   ,  0.   ,  0.   , 25.741,  1.   ,  0.   ],\n",
       "       [28.   ,  1.   ,  1.   ,  7.798,  1.   ,  0.   ],\n",
       "       [69.   ,  0.   ,  0.   , 11.455,  0.   ,  1.   ]])"
      ]
     },
     "execution_count": 81,
     "metadata": {},
     "output_type": "execute_result"
    }
   ],
   "source": [
    "arr_no_drug = parsed_df.drop('Drug', axis=1).to_numpy()\n",
    "arr_drug = parsed_df['Drug'].to_numpy()\n",
    "x_train, x_test, y_train, y_test = train_test_split(arr_no_drug, arr_drug)\n",
    "\n",
    "x_train"
   ]
  },
  {
   "cell_type": "markdown",
   "id": "a2a163cd",
   "metadata": {},
   "source": [
    "6. Run 6 different classifiers:"
   ]
  },
  {
   "cell_type": "markdown",
   "id": "6f821e0b",
   "metadata": {},
   "source": [
    "(a) NB: a Gaussian Naive Bayes Classifier (naive bayes.GaussianNB) with the default parameters."
   ]
  },
  {
   "cell_type": "code",
   "execution_count": 82,
   "id": "6c8c38b1",
   "metadata": {},
   "outputs": [],
   "source": [
    "GNB = GaussianNB().fit(x_train, y_train)"
   ]
  },
  {
   "cell_type": "markdown",
   "id": "1bcaf89f",
   "metadata": {},
   "source": [
    "(b) Base-DT: a Decision Tree (tree.DecisionTreeClassifier) with the default parameters."
   ]
  },
  {
   "cell_type": "code",
   "execution_count": 83,
   "id": "7df0b2b7",
   "metadata": {},
   "outputs": [],
   "source": [
    "DTC = DecisionTreeClassifier().fit(x_train, y_train)"
   ]
  },
  {
   "cell_type": "markdown",
   "id": "4ea1e907",
   "metadata": {},
   "source": [
    "(c) Top-DT: a better performing Decision Tree found using (GridSearchCV). The gridsearch will allow you to find the best combination of hyper-parameters, as determined by the evaluation function that you have determined in step (3) above. The hyper-parameters that you will experiment with are:\n",
    "- criterion: gini or entropy\n",
    "- max depth : 2 different values of your choice\n",
    "- min samples split: 3 different values of your choice"
   ]
  },
  {
   "cell_type": "code",
   "execution_count": 84,
   "id": "34f3509c",
   "metadata": {},
   "outputs": [],
   "source": [
    "parameters = {\n",
    "    'criterion': ['gini', 'entropy'],\n",
    "    'max_depth': [69, 420],\n",
    "    'min_samples_split': [2, 5, 12]\n",
    "}\n",
    "GSCV = GridSearchCV(DecisionTreeClassifier(), parameters).fit(x_train, y_train)"
   ]
  },
  {
   "cell_type": "markdown",
   "id": "d36ab32b",
   "metadata": {},
   "source": [
    "(d) PER: a Perceptron (linear model.Perceptron), with default parameter values."
   ]
  },
  {
   "cell_type": "code",
   "execution_count": 85,
   "id": "6e977248",
   "metadata": {},
   "outputs": [],
   "source": [
    "PERCEPTRON = Perceptron().fit(x_train, y_train)"
   ]
  },
  {
   "cell_type": "markdown",
   "id": "a38759b5",
   "metadata": {},
   "source": [
    "(e) Base-MLP: a Multi-Layered Perceptron (neural network.MLPClassifier) with 1 hidden layer of\n",
    "100 neurons, sigmoid/logistic as activation function, stochastic gradient descent, and default values\n",
    "for the rest of the parameters."
   ]
  },
  {
   "cell_type": "code",
   "execution_count": 86,
   "id": "e5bfe16e",
   "metadata": {
    "scrolled": false
   },
   "outputs": [
    {
     "name": "stderr",
     "output_type": "stream",
     "text": [
      "/Users/ariannechau/opt/miniconda3/lib/python3.7/site-packages/sklearn/neural_network/_multilayer_perceptron.py:571: ConvergenceWarning: Stochastic Optimizer: Maximum iterations (200) reached and the optimization hasn't converged yet.\n",
      "  % self.max_iter, ConvergenceWarning)\n"
     ]
    }
   ],
   "source": [
    "MLPC = MLPClassifier(hidden_layer_sizes=(100,), activation='logistic', solver='sgd' ).fit(x_train, y_train)"
   ]
  },
  {
   "cell_type": "markdown",
   "id": "4ccd5038",
   "metadata": {},
   "source": [
    "(f) Top-MLP: a better performing Multi-Layered Perceptron found using grid search. For this, you need\n",
    "to experiment with the following parameter values:\n",
    "- activation function: sigmoid, tanh, relu and identity\n",
    "- 2 network architectures of your choice: for eg 2 hidden layers with 30 + 50 nodes, 3 hidden layers with 10 + 10 + 10\n",
    "- solver: Adam and stochastic gradient descent"
   ]
  },
  {
   "cell_type": "code",
   "execution_count": 87,
   "id": "c3c97ec6",
   "metadata": {},
   "outputs": [
    {
     "name": "stderr",
     "output_type": "stream",
     "text": [
      "/Users/ariannechau/opt/miniconda3/lib/python3.7/site-packages/sklearn/neural_network/_multilayer_perceptron.py:571: ConvergenceWarning: Stochastic Optimizer: Maximum iterations (200) reached and the optimization hasn't converged yet.\n",
      "  % self.max_iter, ConvergenceWarning)\n",
      "/Users/ariannechau/opt/miniconda3/lib/python3.7/site-packages/sklearn/neural_network/_multilayer_perceptron.py:571: ConvergenceWarning: Stochastic Optimizer: Maximum iterations (200) reached and the optimization hasn't converged yet.\n",
      "  % self.max_iter, ConvergenceWarning)\n",
      "/Users/ariannechau/opt/miniconda3/lib/python3.7/site-packages/sklearn/neural_network/_multilayer_perceptron.py:571: ConvergenceWarning: Stochastic Optimizer: Maximum iterations (200) reached and the optimization hasn't converged yet.\n",
      "  % self.max_iter, ConvergenceWarning)\n",
      "/Users/ariannechau/opt/miniconda3/lib/python3.7/site-packages/sklearn/neural_network/_multilayer_perceptron.py:571: ConvergenceWarning: Stochastic Optimizer: Maximum iterations (200) reached and the optimization hasn't converged yet.\n",
      "  % self.max_iter, ConvergenceWarning)\n",
      "/Users/ariannechau/opt/miniconda3/lib/python3.7/site-packages/sklearn/neural_network/_multilayer_perceptron.py:571: ConvergenceWarning: Stochastic Optimizer: Maximum iterations (200) reached and the optimization hasn't converged yet.\n",
      "  % self.max_iter, ConvergenceWarning)\n",
      "/Users/ariannechau/opt/miniconda3/lib/python3.7/site-packages/sklearn/neural_network/_multilayer_perceptron.py:571: ConvergenceWarning: Stochastic Optimizer: Maximum iterations (200) reached and the optimization hasn't converged yet.\n",
      "  % self.max_iter, ConvergenceWarning)\n",
      "/Users/ariannechau/opt/miniconda3/lib/python3.7/site-packages/sklearn/neural_network/_multilayer_perceptron.py:571: ConvergenceWarning: Stochastic Optimizer: Maximum iterations (200) reached and the optimization hasn't converged yet.\n",
      "  % self.max_iter, ConvergenceWarning)\n",
      "/Users/ariannechau/opt/miniconda3/lib/python3.7/site-packages/sklearn/neural_network/_multilayer_perceptron.py:571: ConvergenceWarning: Stochastic Optimizer: Maximum iterations (200) reached and the optimization hasn't converged yet.\n",
      "  % self.max_iter, ConvergenceWarning)\n",
      "/Users/ariannechau/opt/miniconda3/lib/python3.7/site-packages/sklearn/neural_network/_multilayer_perceptron.py:571: ConvergenceWarning: Stochastic Optimizer: Maximum iterations (200) reached and the optimization hasn't converged yet.\n",
      "  % self.max_iter, ConvergenceWarning)\n",
      "/Users/ariannechau/opt/miniconda3/lib/python3.7/site-packages/sklearn/neural_network/_multilayer_perceptron.py:571: ConvergenceWarning: Stochastic Optimizer: Maximum iterations (200) reached and the optimization hasn't converged yet.\n",
      "  % self.max_iter, ConvergenceWarning)\n",
      "/Users/ariannechau/opt/miniconda3/lib/python3.7/site-packages/sklearn/neural_network/_multilayer_perceptron.py:571: ConvergenceWarning: Stochastic Optimizer: Maximum iterations (200) reached and the optimization hasn't converged yet.\n",
      "  % self.max_iter, ConvergenceWarning)\n",
      "/Users/ariannechau/opt/miniconda3/lib/python3.7/site-packages/sklearn/neural_network/_multilayer_perceptron.py:571: ConvergenceWarning: Stochastic Optimizer: Maximum iterations (200) reached and the optimization hasn't converged yet.\n",
      "  % self.max_iter, ConvergenceWarning)\n",
      "/Users/ariannechau/opt/miniconda3/lib/python3.7/site-packages/sklearn/neural_network/_multilayer_perceptron.py:571: ConvergenceWarning: Stochastic Optimizer: Maximum iterations (200) reached and the optimization hasn't converged yet.\n",
      "  % self.max_iter, ConvergenceWarning)\n",
      "/Users/ariannechau/opt/miniconda3/lib/python3.7/site-packages/sklearn/neural_network/_multilayer_perceptron.py:571: ConvergenceWarning: Stochastic Optimizer: Maximum iterations (200) reached and the optimization hasn't converged yet.\n",
      "  % self.max_iter, ConvergenceWarning)\n",
      "/Users/ariannechau/opt/miniconda3/lib/python3.7/site-packages/sklearn/neural_network/_multilayer_perceptron.py:571: ConvergenceWarning: Stochastic Optimizer: Maximum iterations (200) reached and the optimization hasn't converged yet.\n",
      "  % self.max_iter, ConvergenceWarning)\n",
      "/Users/ariannechau/opt/miniconda3/lib/python3.7/site-packages/sklearn/neural_network/_multilayer_perceptron.py:571: ConvergenceWarning: Stochastic Optimizer: Maximum iterations (200) reached and the optimization hasn't converged yet.\n",
      "  % self.max_iter, ConvergenceWarning)\n",
      "/Users/ariannechau/opt/miniconda3/lib/python3.7/site-packages/sklearn/neural_network/_multilayer_perceptron.py:571: ConvergenceWarning: Stochastic Optimizer: Maximum iterations (200) reached and the optimization hasn't converged yet.\n",
      "  % self.max_iter, ConvergenceWarning)\n",
      "/Users/ariannechau/opt/miniconda3/lib/python3.7/site-packages/sklearn/neural_network/_multilayer_perceptron.py:571: ConvergenceWarning: Stochastic Optimizer: Maximum iterations (200) reached and the optimization hasn't converged yet.\n",
      "  % self.max_iter, ConvergenceWarning)\n",
      "/Users/ariannechau/opt/miniconda3/lib/python3.7/site-packages/sklearn/neural_network/_multilayer_perceptron.py:571: ConvergenceWarning: Stochastic Optimizer: Maximum iterations (200) reached and the optimization hasn't converged yet.\n",
      "  % self.max_iter, ConvergenceWarning)\n",
      "/Users/ariannechau/opt/miniconda3/lib/python3.7/site-packages/sklearn/neural_network/_multilayer_perceptron.py:571: ConvergenceWarning: Stochastic Optimizer: Maximum iterations (200) reached and the optimization hasn't converged yet.\n",
      "  % self.max_iter, ConvergenceWarning)\n",
      "/Users/ariannechau/opt/miniconda3/lib/python3.7/site-packages/sklearn/neural_network/_multilayer_perceptron.py:571: ConvergenceWarning: Stochastic Optimizer: Maximum iterations (200) reached and the optimization hasn't converged yet.\n",
      "  % self.max_iter, ConvergenceWarning)\n",
      "/Users/ariannechau/opt/miniconda3/lib/python3.7/site-packages/sklearn/neural_network/_multilayer_perceptron.py:571: ConvergenceWarning: Stochastic Optimizer: Maximum iterations (200) reached and the optimization hasn't converged yet.\n",
      "  % self.max_iter, ConvergenceWarning)\n",
      "/Users/ariannechau/opt/miniconda3/lib/python3.7/site-packages/sklearn/neural_network/_multilayer_perceptron.py:571: ConvergenceWarning: Stochastic Optimizer: Maximum iterations (200) reached and the optimization hasn't converged yet.\n",
      "  % self.max_iter, ConvergenceWarning)\n",
      "/Users/ariannechau/opt/miniconda3/lib/python3.7/site-packages/sklearn/neural_network/_multilayer_perceptron.py:571: ConvergenceWarning: Stochastic Optimizer: Maximum iterations (200) reached and the optimization hasn't converged yet.\n",
      "  % self.max_iter, ConvergenceWarning)\n",
      "/Users/ariannechau/opt/miniconda3/lib/python3.7/site-packages/sklearn/neural_network/_multilayer_perceptron.py:571: ConvergenceWarning: Stochastic Optimizer: Maximum iterations (200) reached and the optimization hasn't converged yet.\n",
      "  % self.max_iter, ConvergenceWarning)\n",
      "/Users/ariannechau/opt/miniconda3/lib/python3.7/site-packages/sklearn/neural_network/_multilayer_perceptron.py:571: ConvergenceWarning: Stochastic Optimizer: Maximum iterations (200) reached and the optimization hasn't converged yet.\n",
      "  % self.max_iter, ConvergenceWarning)\n",
      "/Users/ariannechau/opt/miniconda3/lib/python3.7/site-packages/sklearn/neural_network/_multilayer_perceptron.py:571: ConvergenceWarning: Stochastic Optimizer: Maximum iterations (200) reached and the optimization hasn't converged yet.\n",
      "  % self.max_iter, ConvergenceWarning)\n",
      "/Users/ariannechau/opt/miniconda3/lib/python3.7/site-packages/sklearn/neural_network/_multilayer_perceptron.py:571: ConvergenceWarning: Stochastic Optimizer: Maximum iterations (200) reached and the optimization hasn't converged yet.\n",
      "  % self.max_iter, ConvergenceWarning)\n",
      "/Users/ariannechau/opt/miniconda3/lib/python3.7/site-packages/sklearn/neural_network/_multilayer_perceptron.py:571: ConvergenceWarning: Stochastic Optimizer: Maximum iterations (200) reached and the optimization hasn't converged yet.\n",
      "  % self.max_iter, ConvergenceWarning)\n",
      "/Users/ariannechau/opt/miniconda3/lib/python3.7/site-packages/sklearn/neural_network/_multilayer_perceptron.py:571: ConvergenceWarning: Stochastic Optimizer: Maximum iterations (200) reached and the optimization hasn't converged yet.\n",
      "  % self.max_iter, ConvergenceWarning)\n",
      "/Users/ariannechau/opt/miniconda3/lib/python3.7/site-packages/sklearn/neural_network/_multilayer_perceptron.py:571: ConvergenceWarning: Stochastic Optimizer: Maximum iterations (200) reached and the optimization hasn't converged yet.\n",
      "  % self.max_iter, ConvergenceWarning)\n",
      "/Users/ariannechau/opt/miniconda3/lib/python3.7/site-packages/sklearn/neural_network/_multilayer_perceptron.py:571: ConvergenceWarning: Stochastic Optimizer: Maximum iterations (200) reached and the optimization hasn't converged yet.\n",
      "  % self.max_iter, ConvergenceWarning)\n"
     ]
    },
    {
     "name": "stderr",
     "output_type": "stream",
     "text": [
      "/Users/ariannechau/opt/miniconda3/lib/python3.7/site-packages/sklearn/neural_network/_multilayer_perceptron.py:571: ConvergenceWarning: Stochastic Optimizer: Maximum iterations (200) reached and the optimization hasn't converged yet.\n",
      "  % self.max_iter, ConvergenceWarning)\n",
      "/Users/ariannechau/opt/miniconda3/lib/python3.7/site-packages/sklearn/neural_network/_multilayer_perceptron.py:571: ConvergenceWarning: Stochastic Optimizer: Maximum iterations (200) reached and the optimization hasn't converged yet.\n",
      "  % self.max_iter, ConvergenceWarning)\n",
      "/Users/ariannechau/opt/miniconda3/lib/python3.7/site-packages/sklearn/neural_network/_multilayer_perceptron.py:571: ConvergenceWarning: Stochastic Optimizer: Maximum iterations (200) reached and the optimization hasn't converged yet.\n",
      "  % self.max_iter, ConvergenceWarning)\n",
      "/Users/ariannechau/opt/miniconda3/lib/python3.7/site-packages/sklearn/neural_network/_multilayer_perceptron.py:571: ConvergenceWarning: Stochastic Optimizer: Maximum iterations (200) reached and the optimization hasn't converged yet.\n",
      "  % self.max_iter, ConvergenceWarning)\n",
      "/Users/ariannechau/opt/miniconda3/lib/python3.7/site-packages/sklearn/neural_network/_multilayer_perceptron.py:571: ConvergenceWarning: Stochastic Optimizer: Maximum iterations (200) reached and the optimization hasn't converged yet.\n",
      "  % self.max_iter, ConvergenceWarning)\n",
      "/Users/ariannechau/opt/miniconda3/lib/python3.7/site-packages/sklearn/neural_network/_multilayer_perceptron.py:571: ConvergenceWarning: Stochastic Optimizer: Maximum iterations (200) reached and the optimization hasn't converged yet.\n",
      "  % self.max_iter, ConvergenceWarning)\n",
      "/Users/ariannechau/opt/miniconda3/lib/python3.7/site-packages/sklearn/neural_network/_multilayer_perceptron.py:571: ConvergenceWarning: Stochastic Optimizer: Maximum iterations (200) reached and the optimization hasn't converged yet.\n",
      "  % self.max_iter, ConvergenceWarning)\n",
      "/Users/ariannechau/opt/miniconda3/lib/python3.7/site-packages/sklearn/neural_network/_multilayer_perceptron.py:571: ConvergenceWarning: Stochastic Optimizer: Maximum iterations (200) reached and the optimization hasn't converged yet.\n",
      "  % self.max_iter, ConvergenceWarning)\n",
      "/Users/ariannechau/opt/miniconda3/lib/python3.7/site-packages/sklearn/neural_network/_multilayer_perceptron.py:571: ConvergenceWarning: Stochastic Optimizer: Maximum iterations (200) reached and the optimization hasn't converged yet.\n",
      "  % self.max_iter, ConvergenceWarning)\n",
      "/Users/ariannechau/opt/miniconda3/lib/python3.7/site-packages/sklearn/neural_network/_multilayer_perceptron.py:571: ConvergenceWarning: Stochastic Optimizer: Maximum iterations (200) reached and the optimization hasn't converged yet.\n",
      "  % self.max_iter, ConvergenceWarning)\n",
      "/Users/ariannechau/opt/miniconda3/lib/python3.7/site-packages/sklearn/neural_network/_multilayer_perceptron.py:571: ConvergenceWarning: Stochastic Optimizer: Maximum iterations (200) reached and the optimization hasn't converged yet.\n",
      "  % self.max_iter, ConvergenceWarning)\n",
      "/Users/ariannechau/opt/miniconda3/lib/python3.7/site-packages/sklearn/neural_network/_multilayer_perceptron.py:571: ConvergenceWarning: Stochastic Optimizer: Maximum iterations (200) reached and the optimization hasn't converged yet.\n",
      "  % self.max_iter, ConvergenceWarning)\n",
      "/Users/ariannechau/opt/miniconda3/lib/python3.7/site-packages/sklearn/neural_network/_multilayer_perceptron.py:571: ConvergenceWarning: Stochastic Optimizer: Maximum iterations (200) reached and the optimization hasn't converged yet.\n",
      "  % self.max_iter, ConvergenceWarning)\n",
      "/Users/ariannechau/opt/miniconda3/lib/python3.7/site-packages/sklearn/neural_network/_multilayer_perceptron.py:571: ConvergenceWarning: Stochastic Optimizer: Maximum iterations (200) reached and the optimization hasn't converged yet.\n",
      "  % self.max_iter, ConvergenceWarning)\n",
      "/Users/ariannechau/opt/miniconda3/lib/python3.7/site-packages/sklearn/neural_network/_multilayer_perceptron.py:571: ConvergenceWarning: Stochastic Optimizer: Maximum iterations (200) reached and the optimization hasn't converged yet.\n",
      "  % self.max_iter, ConvergenceWarning)\n",
      "/Users/ariannechau/opt/miniconda3/lib/python3.7/site-packages/sklearn/neural_network/_multilayer_perceptron.py:571: ConvergenceWarning: Stochastic Optimizer: Maximum iterations (200) reached and the optimization hasn't converged yet.\n",
      "  % self.max_iter, ConvergenceWarning)\n",
      "/Users/ariannechau/opt/miniconda3/lib/python3.7/site-packages/sklearn/neural_network/_multilayer_perceptron.py:571: ConvergenceWarning: Stochastic Optimizer: Maximum iterations (200) reached and the optimization hasn't converged yet.\n",
      "  % self.max_iter, ConvergenceWarning)\n",
      "/Users/ariannechau/opt/miniconda3/lib/python3.7/site-packages/sklearn/neural_network/_multilayer_perceptron.py:571: ConvergenceWarning: Stochastic Optimizer: Maximum iterations (200) reached and the optimization hasn't converged yet.\n",
      "  % self.max_iter, ConvergenceWarning)\n",
      "/Users/ariannechau/opt/miniconda3/lib/python3.7/site-packages/sklearn/neural_network/_multilayer_perceptron.py:571: ConvergenceWarning: Stochastic Optimizer: Maximum iterations (200) reached and the optimization hasn't converged yet.\n",
      "  % self.max_iter, ConvergenceWarning)\n",
      "/Users/ariannechau/opt/miniconda3/lib/python3.7/site-packages/sklearn/neural_network/_multilayer_perceptron.py:571: ConvergenceWarning: Stochastic Optimizer: Maximum iterations (200) reached and the optimization hasn't converged yet.\n",
      "  % self.max_iter, ConvergenceWarning)\n",
      "/Users/ariannechau/opt/miniconda3/lib/python3.7/site-packages/sklearn/neural_network/_multilayer_perceptron.py:571: ConvergenceWarning: Stochastic Optimizer: Maximum iterations (200) reached and the optimization hasn't converged yet.\n",
      "  % self.max_iter, ConvergenceWarning)\n",
      "/Users/ariannechau/opt/miniconda3/lib/python3.7/site-packages/sklearn/neural_network/_multilayer_perceptron.py:571: ConvergenceWarning: Stochastic Optimizer: Maximum iterations (200) reached and the optimization hasn't converged yet.\n",
      "  % self.max_iter, ConvergenceWarning)\n",
      "/Users/ariannechau/opt/miniconda3/lib/python3.7/site-packages/sklearn/neural_network/_multilayer_perceptron.py:571: ConvergenceWarning: Stochastic Optimizer: Maximum iterations (200) reached and the optimization hasn't converged yet.\n",
      "  % self.max_iter, ConvergenceWarning)\n",
      "/Users/ariannechau/opt/miniconda3/lib/python3.7/site-packages/sklearn/neural_network/_multilayer_perceptron.py:571: ConvergenceWarning: Stochastic Optimizer: Maximum iterations (200) reached and the optimization hasn't converged yet.\n",
      "  % self.max_iter, ConvergenceWarning)\n",
      "/Users/ariannechau/opt/miniconda3/lib/python3.7/site-packages/sklearn/neural_network/_multilayer_perceptron.py:571: ConvergenceWarning: Stochastic Optimizer: Maximum iterations (200) reached and the optimization hasn't converged yet.\n",
      "  % self.max_iter, ConvergenceWarning)\n",
      "/Users/ariannechau/opt/miniconda3/lib/python3.7/site-packages/sklearn/neural_network/_multilayer_perceptron.py:571: ConvergenceWarning: Stochastic Optimizer: Maximum iterations (200) reached and the optimization hasn't converged yet.\n",
      "  % self.max_iter, ConvergenceWarning)\n",
      "/Users/ariannechau/opt/miniconda3/lib/python3.7/site-packages/sklearn/neural_network/_multilayer_perceptron.py:571: ConvergenceWarning: Stochastic Optimizer: Maximum iterations (200) reached and the optimization hasn't converged yet.\n",
      "  % self.max_iter, ConvergenceWarning)\n",
      "/Users/ariannechau/opt/miniconda3/lib/python3.7/site-packages/sklearn/neural_network/_multilayer_perceptron.py:571: ConvergenceWarning: Stochastic Optimizer: Maximum iterations (200) reached and the optimization hasn't converged yet.\n",
      "  % self.max_iter, ConvergenceWarning)\n",
      "/Users/ariannechau/opt/miniconda3/lib/python3.7/site-packages/sklearn/neural_network/_multilayer_perceptron.py:571: ConvergenceWarning: Stochastic Optimizer: Maximum iterations (200) reached and the optimization hasn't converged yet.\n",
      "  % self.max_iter, ConvergenceWarning)\n",
      "/Users/ariannechau/opt/miniconda3/lib/python3.7/site-packages/sklearn/neural_network/_multilayer_perceptron.py:571: ConvergenceWarning: Stochastic Optimizer: Maximum iterations (200) reached and the optimization hasn't converged yet.\n",
      "  % self.max_iter, ConvergenceWarning)\n",
      "/Users/ariannechau/opt/miniconda3/lib/python3.7/site-packages/sklearn/neural_network/_multilayer_perceptron.py:571: ConvergenceWarning: Stochastic Optimizer: Maximum iterations (200) reached and the optimization hasn't converged yet.\n",
      "  % self.max_iter, ConvergenceWarning)\n",
      "/Users/ariannechau/opt/miniconda3/lib/python3.7/site-packages/sklearn/neural_network/_multilayer_perceptron.py:571: ConvergenceWarning: Stochastic Optimizer: Maximum iterations (200) reached and the optimization hasn't converged yet.\n",
      "  % self.max_iter, ConvergenceWarning)\n"
     ]
    },
    {
     "name": "stderr",
     "output_type": "stream",
     "text": [
      "/Users/ariannechau/opt/miniconda3/lib/python3.7/site-packages/sklearn/neural_network/_multilayer_perceptron.py:571: ConvergenceWarning: Stochastic Optimizer: Maximum iterations (200) reached and the optimization hasn't converged yet.\n",
      "  % self.max_iter, ConvergenceWarning)\n",
      "/Users/ariannechau/opt/miniconda3/lib/python3.7/site-packages/sklearn/neural_network/_multilayer_perceptron.py:571: ConvergenceWarning: Stochastic Optimizer: Maximum iterations (200) reached and the optimization hasn't converged yet.\n",
      "  % self.max_iter, ConvergenceWarning)\n",
      "/Users/ariannechau/opt/miniconda3/lib/python3.7/site-packages/sklearn/neural_network/_multilayer_perceptron.py:571: ConvergenceWarning: Stochastic Optimizer: Maximum iterations (200) reached and the optimization hasn't converged yet.\n",
      "  % self.max_iter, ConvergenceWarning)\n",
      "/Users/ariannechau/opt/miniconda3/lib/python3.7/site-packages/sklearn/neural_network/_multilayer_perceptron.py:571: ConvergenceWarning: Stochastic Optimizer: Maximum iterations (200) reached and the optimization hasn't converged yet.\n",
      "  % self.max_iter, ConvergenceWarning)\n"
     ]
    }
   ],
   "source": [
    "parameters = {\n",
    "    'activation': ['logistic', 'tanh', 'relu', 'identity'],\n",
    "    'hidden_layer_sizes': [(30, 50), (10, 10, 10)],\n",
    "    'solver': ['adam', 'sgd']\n",
    "}\n",
    "GSCV = GridSearchCV(MLPClassifier(), parameters).fit(x_train, y_train)"
   ]
  },
  {
   "cell_type": "markdown",
   "id": "6a0e3860",
   "metadata": {},
   "source": [
    "7. For each of the 6 classifier above, append the following information in a file called drugs-performance.txt: (to make it easier for the TAs, make sure that your output for each sub-question below is clearly marked in your output file, using the headings (a), (b) . . .) "
   ]
  },
  {
   "cell_type": "markdown",
   "id": "8bab1847",
   "metadata": {},
   "source": [
    "(a) a clear separator (a sequence of hyphens or stars) and a string clearly describing the model (e.g. the model name + hyper-parameter values that you changed). In the case of Top-DT and Top-MLP, display the best hyperparameters found by the gridsearch.\n",
    "\n",
    "(b) the confusion matrix\n",
    "\n",
    "(c) the precision, recall, and F1-measure for each class\n",
    "\n",
    "(d) the accuracy, macro-average F1 and weighted-average F1 of the model"
   ]
  },
  {
   "cell_type": "code",
   "execution_count": 107,
   "id": "87b31af3",
   "metadata": {},
   "outputs": [],
   "source": [
    "with open(\"drug-performance.txt\", \"w\") as myfile:\n",
    "    myfile.write('')\n",
    "\n",
    "# separator and model name\n",
    "\n",
    "def a(txt):\n",
    "    with open(\"drug-performance.txt\", \"a\") as myfile:\n",
    "        myfile.write(\"------------------------------------------------------------------\")    \n",
    "        myfile.write(\"\\n\\n\")    \n",
    "        myfile.write(txt)\n",
    "        myfile.write(\"\\n\")\n",
    "        myfile.write(\"\\n\")\n",
    "        \n",
    "# confusion matrix\n",
    "\n",
    "def b(model):\n",
    "    import itertools\n",
    "\n",
    "    def get_confusion_matrix(x_test, y_test, y_pred):\n",
    "        return confusion_matrix(y_test, y_pred)\n",
    "\n",
    "    y_pred = model.predict(x_test)\n",
    "    confusion_m = get_confusion_matrix(x_test, y_test, y_pred)\n",
    "\n",
    "    plt.matshow(confusion_m, cmap=plt.cm.OrRd)\n",
    "    plt.colorbar(fraction=0.045)\n",
    "    tick_marks = np.arange(len(confusion_m))\n",
    "    plt.xticks(tick_marks, drugs, rotation=45)\n",
    "    plt.yticks(tick_marks, drugs)\n",
    "    plt.ylabel('True label')\n",
    "    plt.xlabel('Predicted label')\n",
    "    for i, j in itertools.product(range(confusion_m.shape[0]), range(confusion_m.shape[1])):\n",
    "            plt.text(j, i, \"{:,}\".format(confusion_m[i][j]), horizontalalignment=\"center\")\n",
    "\n",
    "    with open(\"drug-performance.txt\", \"a\") as myfile:\n",
    "        myfile.write('1. Confusion matrix')\n",
    "        myfile.write(\"\\n\\n\")\n",
    "        myfile.write(str(confusion_m))\n",
    "        myfile.write(\"\\n\")\n",
    "        myfile.write(\"\\n\")\n",
    "    \n",
    "    return y_pred\n",
    "\n",
    "# precision, recall and F-1 measure for each class\n",
    "\n",
    "def c(y_pred):\n",
    "    print(classification_report(y_test, y_pred, target_names=drugs, zero_division=0))\n",
    "\n",
    "    with open(\"drug-performance.txt\", \"a\") as myfile:\n",
    "        myfile.write('2. precision, recall, and F1-measure for each class')\n",
    "        myfile.write('\\n\\n')\n",
    "        myfile.write(classification_report(y_test, y_pred, target_names=drugs, zero_division=0))\n",
    "        myfile.write(\"\\n\")\n",
    "\n",
    "# accuracy, macro-average F1 and weighted-average F1 of the model\n",
    "\n",
    "def d(y_pred):\n",
    "    accuracy = accuracy_score(y_test, y_pred)\n",
    "    print('Accuracy: {}'.format(accuracy))\n",
    "\n",
    "    macro_avg_f1 = f1_score(y_test, y_pred, average='macro')\n",
    "    print('Macro-average: {}'.format(macro_avg_f1))\n",
    "\n",
    "    weighted_avg_f1 = f1_score(y_test, y_pred, average='macro')\n",
    "    print('Weighted-average: {}'.format(weighted_avg_f1))\n",
    "\n",
    "    with open(\"drug-performance.txt\", \"a\") as myfile:\n",
    "        myfile.write('3. accuracy, macro-average F1 and weighted-average F1 of the model')\n",
    "        myfile.write('\\n\\n')\n",
    "        myfile.write('Accuracy: {}'.format(accuracy))\n",
    "        myfile.write(\"\\n\")\n",
    "        myfile.write('Macro-average: {}'.format(macro_avg_f1))\n",
    "        myfile.write(\"\\n\")\n",
    "        myfile.write('Weighted-average: {}'.format(weighted_avg_f1))\n",
    "        myfile.write(\"\\n\")\n",
    "        myfile.write(\"\\n\")"
   ]
  },
  {
   "cell_type": "markdown",
   "id": "9c0176e8",
   "metadata": {},
   "source": [
    " Gaussian Naive Bayes Classifier with the default parameters"
   ]
  },
  {
   "cell_type": "code",
   "execution_count": 108,
   "id": "41f80359",
   "metadata": {
    "scrolled": true
   },
   "outputs": [
    {
     "name": "stdout",
     "output_type": "stream",
     "text": [
      "              precision    recall  f1-score   support\n",
      "\n",
      "       drugA       0.89      1.00      0.94         8\n",
      "       drugB       0.67      1.00      0.80         2\n",
      "       drugC       0.82      1.00      0.90         9\n",
      "       drugX       1.00      1.00      1.00        12\n",
      "       drugY       1.00      0.79      0.88        19\n",
      "\n",
      "    accuracy                           0.92        50\n",
      "   macro avg       0.87      0.96      0.90        50\n",
      "weighted avg       0.94      0.92      0.92        50\n",
      "\n",
      "Accuracy: 0.92\n",
      "Macro-average: 0.9047058823529411\n",
      "Weighted-average: 0.9047058823529411\n"
     ]
    },
    {
     "data": {
      "image/png": "[encoded data removed]",
      "text/plain": [
       "<Figure size 288x288 with 2 Axes>"
      ]
     },
     "metadata": {
      "needs_background": "light"
     },
     "output_type": "display_data"
    }
   ],
   "source": [
    "a('Gaussian Naive Bayes Classifier with the default parameters')\n",
    "y_pred = b(GNB)\n",
    "c(y_pred)\n",
    "d(y_pred)"
   ]
  },
  {
   "cell_type": "markdown",
   "id": "29ed6627",
   "metadata": {},
   "source": [
    " Decision Tree with the default parameters"
   ]
  },
  {
   "cell_type": "code",
   "execution_count": 109,
   "id": "d4df7416",
   "metadata": {},
   "outputs": [
    {
     "name": "stdout",
     "output_type": "stream",
     "text": [
      "              precision    recall  f1-score   support\n",
      "\n",
      "       drugA       1.00      1.00      1.00         8\n",
      "       drugB       1.00      1.00      1.00         2\n",
      "       drugC       1.00      1.00      1.00         9\n",
      "       drugX       1.00      1.00      1.00        12\n",
      "       drugY       1.00      1.00      1.00        19\n",
      "\n",
      "    accuracy                           1.00        50\n",
      "   macro avg       1.00      1.00      1.00        50\n",
      "weighted avg       1.00      1.00      1.00        50\n",
      "\n",
      "Accuracy: 1.0\n",
      "Macro-average: 1.0\n",
      "Weighted-average: 1.0\n"
     ]
    },
    {
     "data": {
      "image/png": "[encoded data removed]",
      "text/plain": [
       "<Figure size 288x288 with 2 Axes>"
      ]
     },
     "metadata": {
      "needs_background": "light"
     },
     "output_type": "display_data"
    }
   ],
   "source": [
    "a('Decision Tree with the default parameters')\n",
    "y_pred = b(DTC)\n",
    "c(y_pred)\n",
    "d(y_pred)"
   ]
  },
  {
   "cell_type": "markdown",
   "id": "22c794a8",
   "metadata": {},
   "source": [
    "Decision Tree using GridSearchCV with hyper-parameters:\n",
    "\n",
    "- criterion: gini or entropy\n",
    "- max depth : 2 different values of your choice\n",
    "- min samples split: 3 different values of your choice"
   ]
  },
  {
   "cell_type": "code",
   "execution_count": 110,
   "id": "598a5b78",
   "metadata": {},
   "outputs": [
    {
     "name": "stdout",
     "output_type": "stream",
     "text": [
      "              precision    recall  f1-score   support\n",
      "\n",
      "       drugA       1.00      0.75      0.86         8\n",
      "       drugB       0.50      1.00      0.67         2\n",
      "       drugC       0.00      0.00      0.00         9\n",
      "       drugX       0.47      0.75      0.58        12\n",
      "       drugY       0.86      0.95      0.90        19\n",
      "\n",
      "    accuracy                           0.70        50\n",
      "   macro avg       0.57      0.69      0.60        50\n",
      "weighted avg       0.62      0.70      0.65        50\n",
      "\n",
      "Accuracy: 0.7\n",
      "Macro-average: 0.6008909370199692\n",
      "Weighted-average: 0.6008909370199692\n"
     ]
    },
    {
     "data": {
      "image/png": "[encoded data removed]",
      "text/plain": [
       "<Figure size 288x288 with 2 Axes>"
      ]
     },
     "metadata": {
      "needs_background": "light"
     },
     "output_type": "display_data"
    }
   ],
   "source": [
    "a('Decision Tree using GridSearchCV with hyper-parameters:\\n' \\\n",
    "  '\\t- criterion: gini or entropy\\n' \\\n",
    "  '\\t- max depth : 2 different values of your choice\\n' \\\n",
    "  '\\t- min samples split: 3 different values of your choice')\n",
    "y_pred = b(GSCV)\n",
    "c(y_pred)\n",
    "d(y_pred)"
   ]
  },
  {
   "cell_type": "markdown",
   "id": "a2c3820d",
   "metadata": {},
   "source": [
    "Perceptron with default parameter values"
   ]
  },
  {
   "cell_type": "code",
   "execution_count": 111,
   "id": "5519441b",
   "metadata": {},
   "outputs": [
    {
     "name": "stdout",
     "output_type": "stream",
     "text": [
      "              precision    recall  f1-score   support\n",
      "\n",
      "       drugA       0.00      0.00      0.00         8\n",
      "       drugB       0.00      0.00      0.00         2\n",
      "       drugC       0.00      0.00      0.00         9\n",
      "       drugX       0.00      0.00      0.00        12\n",
      "       drugY       0.41      1.00      0.58        19\n",
      "\n",
      "    accuracy                           0.38        50\n",
      "   macro avg       0.08      0.20      0.12        50\n",
      "weighted avg       0.16      0.38      0.22        50\n",
      "\n",
      "Accuracy: 0.38\n",
      "Macro-average: 0.11692307692307694\n",
      "Weighted-average: 0.11692307692307694\n"
     ]
    },
    {
     "data": {
      "image/png": "[encoded data removed]",
      "text/plain": [
       "<Figure size 288x288 with 2 Axes>"
      ]
     },
     "metadata": {
      "needs_background": "light"
     },
     "output_type": "display_data"
    }
   ],
   "source": [
    "a('Perceptron with default parameter values')\n",
    "y_pred = b(PERCEPTRON)\n",
    "c(y_pred)\n",
    "d(y_pred)"
   ]
  },
  {
   "cell_type": "markdown",
   "id": "57c793da",
   "metadata": {},
   "source": [
    "Multi-Layered Perceptron with 1 hidden layer of 100 neurons, sigmoid/logistic as activation function, stochastic gradient descent, and default values for the rest of the parameters"
   ]
  },
  {
   "cell_type": "code",
   "execution_count": 112,
   "id": "2d155b69",
   "metadata": {},
   "outputs": [
    {
     "name": "stdout",
     "output_type": "stream",
     "text": [
      "              precision    recall  f1-score   support\n",
      "\n",
      "       drugA       0.00      0.00      0.00         8\n",
      "       drugB       0.00      0.00      0.00         2\n",
      "       drugC       0.00      0.00      0.00         9\n",
      "       drugX       0.41      0.58      0.48        12\n",
      "       drugY       0.58      1.00      0.73        19\n",
      "\n",
      "    accuracy                           0.52        50\n",
      "   macro avg       0.20      0.32      0.24        50\n",
      "weighted avg       0.32      0.52      0.39        50\n",
      "\n",
      "Accuracy: 0.52\n",
      "Macro-average: 0.24270557029177722\n",
      "Weighted-average: 0.24270557029177722\n"
     ]
    },
    {
     "data": {
      "image/png": "[encoded data removed]",
      "text/plain": [
       "<Figure size 288x288 with 2 Axes>"
      ]
     },
     "metadata": {
      "needs_background": "light"
     },
     "output_type": "display_data"
    }
   ],
   "source": [
    "a('Multi-Layered Perceptron with 1 hidden layer of 100 neurons,\\n' \\\n",
    "  'sigmoid/logistic as activation function, stochastic gradient descent,\\n' \\\n",
    "  'and default values for the rest of the parameters')\n",
    "y_pred = b(MLPC)\n",
    "c(y_pred)\n",
    "d(y_pred)"
   ]
  },
  {
   "cell_type": "markdown",
   "id": "6d698e59",
   "metadata": {},
   "source": [
    "Multi-Layered Perceptron found using grid search with parameter values:"
   ]
  }
 ],
 "metadata": {
  "kernelspec": {
   "display_name": "Python 3 (ipykernel)",
   "language": "python",
   "name": "python3"
  },
  "language_info": {
   "codemirror_mode": {
    "name": "ipython",
    "version": 3
   },
   "file_extension": ".py",
   "mimetype": "text/x-python",
   "name": "python",
   "nbconvert_exporter": "python",
   "pygments_lexer": "ipython3",
   "version": "3.7.10"
  }
 },
 "nbformat": 4,
 "nbformat_minor": 5
}
