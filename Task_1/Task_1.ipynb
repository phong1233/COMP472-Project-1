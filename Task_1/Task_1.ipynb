{
 "cells": [
  {
   "cell_type": "markdown",
   "id": "bb8d1d37",
   "metadata": {},
   "source": [
    "# Task 1: Text Classification"
   ]
  },
  {
   "cell_type": "markdown",
   "id": "58f1bd94",
   "metadata": {},
   "source": [
    "1.  Download the BBC dataset provided on Moodle. The dataset, created by [Greene and Cunningham, 2006],\n",
    "is a collection of 2225 documents from the BBC news website already categorized into 5 classes: business,\n",
    "entertainment, politics, sport, and tech."
   ]
  },
  {
   "cell_type": "code",
   "execution_count": 1,
   "id": "d934ac0b",
   "metadata": {},
   "outputs": [],
   "source": [
    "import numpy as np\n",
    "import matplotlib.pyplot as plt\n",
    "from sklearn.datasets import load_files\n",
    "from sklearn.model_selection import train_test_split\n",
    "from sklearn.naive_bayes import MultinomialNB\n",
    "from sklearn.metrics import confusion_matrix, ConfusionMatrixDisplay, classification_report, accuracy_score, f1_score\n",
    "import sklearn"
   ]
  },
  {
   "cell_type": "markdown",
   "id": "98fdc7e1",
   "metadata": {},
   "source": [
    "2. Plot the distribution of the instances in each class and save the graphic in a ﬁle called BBC-distribution.pdf.\n",
    "You may want to use matplotlib.pyplot and savefig to do this. This pre-analysis of the data set will\n",
    "allow you to determine if the classes are balanced, and which metric is more appropriate to use to evaluate\n",
    "the performance of your classiﬁer."
   ]
  },
  {
   "cell_type": "code",
   "execution_count": 2,
   "id": "d719d71d",
   "metadata": {},
   "outputs": [],
   "source": [
    "# Load all files and save them in a numpy array\n",
    "files = load_files('BBC', encoding='latin1')\n",
    "files_data = np.array(files.data)"
   ]
  },
  {
   "cell_type": "code",
   "execution_count": 8,
   "id": "8d27d792",
   "metadata": {},
   "outputs": [],
   "source": [
    "# Get the documents related to each category\n",
    "targets = files.target_names\n",
    "business = files_data[files.target == targets.index('business')]\n",
    "entertainment = files_data[files.target == targets.index('entertainment')]\n",
    "politics = files_data[files.target == targets.index('politics')]\n",
    "sport = files_data[files.target == targets.index('sport')]\n",
    "tech = files_data[files.target == targets.index('tech')]"
   ]
  },
  {
   "cell_type": "code",
   "execution_count": 20,
   "id": "f23269b2",
   "metadata": {},
   "outputs": [
    {
     "data": {
      "image/png": "[encoded data removed]",
      "text/plain": [
       "<Figure size 432x288 with 1 Axes>"
      ]
     },
     "metadata": {
      "needs_background": "light"
     },
     "output_type": "display_data"
    }
   ],
   "source": [
    "plt.bar(targets, [len(business), len(entertainment), len(politics), len(sport), len(tech)] )\n",
    "#print(len(files_data))\n",
    "plt.ylabel(\"Number of documents\")\n",
    "plt.title(\"BBC Distribution of documents\")\n",
    "plt.savefig('bbc-distribution.pdf')\n",
    "plt.show()\n",
    "\"\"\"\n",
    "Looking at the distribution of instances in each class, we see a very slight data imbalance towards the business and sport \n",
    "classes that have a bit over 500 documents while the classes entertainement, politics and tech over at around 400 documents. \n",
    "This is seen in the prior probabilities as well where the business and sport classes account for an extra 5% each over the \n",
    "other classes. But this should not be enough to cause a problem in the model we want to train.\n",
    "\"\"\";"
   ]
  },
  {
   "cell_type": "markdown",
   "id": "833c6b48",
   "metadata": {},
   "source": [
    "3. Load the corpus using load files and make sure you set the encoding to latin1. This will read the ﬁle\n",
    "structure and assign the category name to each ﬁle from their parent directory name."
   ]
  },
  {
   "cell_type": "code",
   "execution_count": 10,
   "id": "d0232efc",
   "metadata": {},
   "outputs": [],
   "source": [
    "files = load_files('BBC', encoding='latin1')\n",
    "files_data = np.array(files.data)"
   ]
  },
  {
   "cell_type": "markdown",
   "id": "6213b0c9",
   "metadata": {},
   "source": [
    "4. Pre-process the dataset to have the features ready to be used by a multinomial Naive Bayes classiﬁer. This means that the **frequency of each word in each class must be computed and stored in a term-document matrix**. For this, you can use feature extraction.text.CountVectorizer."
   ]
  },
  {
   "cell_type": "code",
   "execution_count": 21,
   "id": "c2474680",
   "metadata": {},
   "outputs": [],
   "source": [
    "vectorizer = sklearn.feature_extraction.text.CountVectorizer()\n",
    "X = vectorizer.fit_transform(files_data)\n",
    "y = files.target\n",
    "#print(X)\n",
    "\n",
    "\"\"\" Example X:\n",
    "             | Word 1 | Word 2 | Word 3 | \n",
    "Document 1        1        0       2\n",
    "Document 2        0        2       1 \n",
    "Document 3        1        1       1\n",
    "\"\"\"\n",
    "\"\"\" Example y:\n",
    "0, 1, 0, 2, 4\n",
    "Meaning document at index 0 is of category 0, index 1 -> category 1, etc\n",
    "\"\"\";"
   ]
  },
  {
   "cell_type": "markdown",
   "id": "9dee2081",
   "metadata": {},
   "source": [
    "5. Split the dataset into 80% for training and 20% for testing. For this, you must use train test split with\n",
    "the parameter random state set to None."
   ]
  },
  {
   "cell_type": "code",
   "execution_count": 22,
   "id": "5933d9a2",
   "metadata": {},
   "outputs": [],
   "source": [
    "X_train, X_test, y_train, y_test = train_test_split(X, y, test_size=0.2, random_state=None)"
   ]
  },
  {
   "cell_type": "markdown",
   "id": "85ffbc8b",
   "metadata": {},
   "source": [
    "6. Train a multinomial Naive Bayes Classiﬁer (naive bayes.MultinomialNB) on the training set using the\n",
    "default parameters and evaluate it on the test set."
   ]
  },
  {
   "cell_type": "code",
   "execution_count": 23,
   "id": "b1e93995",
   "metadata": {},
   "outputs": [
    {
     "name": "stdout",
     "output_type": "stream",
     "text": [
      "{'alpha': 1, 'class_prior': None, 'fit_prior': True}\n"
     ]
    }
   ],
   "source": [
    "def train_MultinomialNB(X_train, y_train, smoothing=1):\n",
    "    mb = MultinomialNB(alpha=smoothing).fit(X_train, y_train)\n",
    "    print(mb.get_params(True))\n",
    "    return mb\n",
    "\n",
    "mb = train_MultinomialNB(X_train, y_train)"
   ]
  },
  {
   "cell_type": "markdown",
   "id": "0cb3cbec",
   "metadata": {},
   "source": [
    "7. In a ﬁle called bbc-performance.txt, save the following information: (to make it easier for the TAs, make\n",
    "sure that your output for each sub-question below is clearly marked in your output ﬁle, using the headings\n",
    "(a), (b) . .. )\n",
    "    1. (a) a clear separator (a sequence of hyphens or stars) and string clearly describing the model (e.g. “Multi-nomialNB default values, try 1”)\n",
    "    2. (b) the confusion matrix (you can use confusion matrix)\n",
    "    3. (c) the precision, recall, and F1-measure for each class (you can use classification report)\n",
    "    4. (d) the accuracy, macro-average F1 and weighted-average F1 of the model (you can use accuracy score and f1 score)\n",
    "    5. (e) the prior probability of each class\n",
    "    6. (f) the size of the vocabulary (i.e. the number of diﬀerent words1)\n",
    "    7. (g) the number of word-tokens in each class (i.e. the number of words in total2)\n",
    "    8. (h) the number of word-tokens in the entire corpus\n",
    "    9. (i) the number and percentage of words with a frequency of zero in each class\n",
    "    10. (j) the number and percentage of words with a frequency of zero in the entire corpus\n",
    "    11. (k) your 2 favorite words (that are present in the vocabulary) and their log-prob"
   ]
  },
  {
   "cell_type": "code",
   "execution_count": 25,
   "id": "2ffa8fe6",
   "metadata": {},
   "outputs": [],
   "source": [
    "with open(\"bbc-performance.txt\", \"w\") as myfile:\n",
    "    myfile.write('')\n",
    "\n",
    "# ------------------------------------------\n",
    "# a) Multi-nomialNB default values, try 1\n",
    "def a(txt):\n",
    "    with open(\"bbc-performance.txt\", \"a\") as myfile:\n",
    "        myfile.write(\"------------------------------------------\")    \n",
    "        myfile.write(\"\\n\")    \n",
    "        myfile.write(txt)\n",
    "        myfile.write(\"\\n\")\n",
    "        myfile.write(\"\\n\")\n",
    "        \n",
    "a('a) Multi-nomialNB default values, try 1')"
   ]
  },
  {
   "cell_type": "code",
   "execution_count": 26,
   "id": "ba58fb91",
   "metadata": {
    "scrolled": true
   },
   "outputs": [
    {
     "data": {
      "image/png": "[encoded data removed]",
      "text/plain": [
       "<Figure size 288x288 with 2 Axes>"
      ]
     },
     "metadata": {
      "needs_background": "light"
     },
     "output_type": "display_data"
    }
   ],
   "source": [
    "# b) Confusion matrix\n",
    "\n",
    "def b():\n",
    "    import itertools\n",
    "\n",
    "    def get_confusion_matrix(X_test, y_test, y_pred):\n",
    "        return confusion_matrix(y_test, y_pred)\n",
    "    y_pred = mb.predict(X_test)\n",
    "    confusion_m = get_confusion_matrix(X_test, y_test, y_pred)\n",
    "\n",
    "    plt.matshow(confusion_m, cmap=plt.cm.OrRd)\n",
    "    plt.colorbar(fraction=0.045)\n",
    "    tick_marks = np.arange(len(confusion_m))\n",
    "    plt.xticks(tick_marks, files.target_names, rotation=45)\n",
    "    plt.yticks(tick_marks, files.target_names)\n",
    "    plt.ylabel('True label')\n",
    "    plt.xlabel('Predicted label')\n",
    "    for i, j in itertools.product(range(confusion_m.shape[0]), range(confusion_m.shape[1])):\n",
    "            plt.text(j, i, \"{:,}\".format(confusion_m[i][j]), horizontalalignment=\"center\")\n",
    "\n",
    "    with open(\"bbc-performance.txt\", \"a\") as myfile:\n",
    "        myfile.write('b) Confusion matrix')\n",
    "        myfile.write(\"\\n\")\n",
    "        myfile.write(str(confusion_m))\n",
    "        myfile.write(\"\\n\")\n",
    "        myfile.write(\"\\n\")\n",
    "    \n",
    "    return y_pred\n",
    "        \n",
    "y_pred = b()"
   ]
  },
  {
   "cell_type": "code",
   "execution_count": 27,
   "id": "86355904",
   "metadata": {},
   "outputs": [
    {
     "name": "stdout",
     "output_type": "stream",
     "text": [
      "               precision    recall  f1-score   support\n",
      "\n",
      "     business       0.98      0.97      0.97        98\n",
      "entertainment       0.99      0.97      0.98        73\n",
      "     politics       0.97      0.99      0.98        91\n",
      "        sport       1.00      0.99      0.99        99\n",
      "         tech       0.99      1.00      0.99        84\n",
      "\n",
      "     accuracy                           0.98       445\n",
      "    macro avg       0.98      0.98      0.98       445\n",
      " weighted avg       0.98      0.98      0.98       445\n",
      "\n"
     ]
    }
   ],
   "source": [
    "# c) precision, recall, and F1-measure for each class\n",
    "\n",
    "def c(y_pred):\n",
    "    print(classification_report(y_test, y_pred, target_names=files.target_names))\n",
    "\n",
    "    with open(\"bbc-performance.txt\", \"a\") as myfile:\n",
    "        myfile.write('c) precision, recall, and F1-measure for each class')\n",
    "        myfile.write('\\n')\n",
    "        myfile.write(classification_report(y_test, y_pred, target_names=files.target_names))\n",
    "        myfile.write(\"\\n\")  \n",
    "        myfile.write(\"\\n\")\n",
    "        \n",
    "c(y_pred)"
   ]
  },
  {
   "cell_type": "code",
   "execution_count": 28,
   "id": "127fd675",
   "metadata": {},
   "outputs": [
    {
     "name": "stdout",
     "output_type": "stream",
     "text": [
      "Accuracy: 0.9842696629213483\n",
      "Macro-average F1: 0.9841873773712969\n",
      "Weighted-average F1: 0.9841873773712969\n"
     ]
    }
   ],
   "source": [
    "# d) accuracy, macro-average F1 and weighted-average F1 of the model\n",
    "\n",
    "def d(y_pred):\n",
    "    accuracy = accuracy_score(y_test, y_pred)\n",
    "    print('Accuracy: {}'.format(accuracy))\n",
    "\n",
    "    macro_avg_f1 = f1_score(y_test, y_pred, average='macro')\n",
    "    print('Macro-average F1: {}'.format(macro_avg_f1))\n",
    "\n",
    "    weighted_avg_f1 = f1_score(y_test, y_pred, average='macro')\n",
    "    print('Weighted-average F1: {}'.format(weighted_avg_f1))\n",
    "\n",
    "    with open(\"bbc-performance.txt\", \"a\") as myfile:\n",
    "        myfile.write('d) accuracy, macro-average F1 and weighted-average F1 of the model')\n",
    "        myfile.write('\\n')\n",
    "        myfile.write('Accuracy: {}'.format(accuracy))\n",
    "        myfile.write(\"\\n\")\n",
    "        myfile.write('Macro-average F1: {}'.format(macro_avg_f1))\n",
    "        myfile.write(\"\\n\")\n",
    "        myfile.write('Weighted-average F1: {}'.format(weighted_avg_f1))\n",
    "        myfile.write(\"\\n\")\n",
    "        myfile.write(\"\\n\")\n",
    "        \n",
    "d(y_pred)"
   ]
  },
  {
   "cell_type": "code",
   "execution_count": 29,
   "id": "7c04d95f",
   "metadata": {},
   "outputs": [
    {
     "name": "stdout",
     "output_type": "stream",
     "text": [
      "Priors of each class\n",
      "business : 0.2292134831460674\n",
      "entertainment : 0.17348314606741572\n",
      "politics : 0.18741573033707865\n",
      "sport : 0.22966292134831462\n",
      "tech : 0.1802247191011236\n"
     ]
    }
   ],
   "source": [
    "# e) prior probability of each class\n",
    "\n",
    "def e():\n",
    "    def calculate_priors(class_count):\n",
    "        return class_count/class_count.sum()\n",
    "\n",
    "    print('Priors of each class')\n",
    "    # Get the total number of documents\n",
    "    class_count = np.array([len(business), len(entertainment), len(politics), len(sport), len(tech)])\n",
    "    priors = calculate_priors(class_count)\n",
    "    \n",
    "    for i in range(len(files.target_names)):\n",
    "        print('{} : {}'.format(files.target_names[i], priors[i]))\n",
    "\n",
    "    with open(\"bbc-performance.txt\", \"a\") as myfile:\n",
    "        myfile.write('e) prior probability of each class')\n",
    "        myfile.write('\\n')\n",
    "        for i in range(len(files.target_names)):\n",
    "            myfile.write('{} : {}'.format(files.target_names[i], priors[i]))\n",
    "            myfile.write(\"\\n\")\n",
    "        myfile.write(\"\\n\")\n",
    "\n",
    "e()"
   ]
  },
  {
   "cell_type": "code",
   "execution_count": 30,
   "id": "f02c1367",
   "metadata": {},
   "outputs": [
    {
     "name": "stdout",
     "output_type": "stream",
     "text": [
      "29421\n"
     ]
    }
   ],
   "source": [
    "# f) size of the vocabulary\n",
    "\n",
    "def f():\n",
    "    def calulate_vocabulary_size(vectorizer):\n",
    "        return len(vectorizer.get_feature_names())\n",
    "\n",
    "    print(calulate_vocabulary_size(vectorizer))\n",
    "\n",
    "    with open(\"bbc-performance.txt\", \"a\") as myfile:\n",
    "        myfile.write('f) size of the vocabulary')\n",
    "        myfile.write('\\n')\n",
    "        myfile.write(str(calulate_vocabulary_size(vectorizer)))\n",
    "        myfile.write(\"\\n\")\n",
    "        myfile.write(\"\\n\")\n",
    "f();"
   ]
  },
  {
   "cell_type": "code",
   "execution_count": 31,
   "id": "e6304625",
   "metadata": {},
   "outputs": [
    {
     "name": "stdout",
     "output_type": "stream",
     "text": [
      "business : 164663\n",
      "entertainment : 124893\n",
      "politics : 185208\n",
      "sport : 162953\n",
      "tech : 198640\n"
     ]
    }
   ],
   "source": [
    "# g) number of word-tokens in each class (i.e. the number of words in total)\n",
    "\n",
    "def g():    \n",
    "    def get_word_tokens_class(X, targets, files):\n",
    "        return [X[files.target == targets.index(i)].sum() for i in files.target_names]\n",
    "\n",
    "\n",
    "    word_tokens_class = get_word_tokens_class(X, targets, files)\n",
    "    for i in range(len(files.target_names)):\n",
    "        print('{} : {}'.format(files.target_names[i], word_tokens_class[i]))\n",
    "\n",
    "    with open(\"bbc-performance.txt\", \"a\") as myfile:\n",
    "        myfile.write('g) number of word-tokens in each class')\n",
    "        myfile.write('\\n')\n",
    "        for i in range(len(files.target_names)):\n",
    "            myfile.write('{} : {}'.format(files.target_names[i], word_tokens_class[i]))\n",
    "            myfile.write(\"\\n\")\n",
    "        myfile.write(\"\\n\")\n",
    "        \n",
    "g()\n",
    "\n",
    "\"\"\"\n",
    "Entertainement has less total number of words because it has the smaller prior, which means there are less documents of\n",
    "class entertainement -> less words total in entertainement\n",
    "\"\"\";"
   ]
  },
  {
   "cell_type": "code",
   "execution_count": 32,
   "id": "39bdf62c",
   "metadata": {},
   "outputs": [
    {
     "name": "stdout",
     "output_type": "stream",
     "text": [
      "836357\n"
     ]
    }
   ],
   "source": [
    "# h) number of word-tokens in entire corpus\n",
    "\n",
    "def get_word_tokens_corpus(X):\n",
    "        return X.sum()\n",
    "    \n",
    "def h():\n",
    "    print(get_word_tokens_corpus(X))\n",
    "\n",
    "    with open(\"bbc-performance.txt\", \"a\") as myfile:\n",
    "        myfile.write('h) number of word-tokens in entire corpus')\n",
    "        myfile.write('\\n')\n",
    "        myfile.write(str(get_word_tokens_corpus(X)))\n",
    "        myfile.write(\"\\n\")\n",
    "        myfile.write(\"\\n\")\n",
    "        \n",
    "h()\n",
    "\n",
    "\"\"\"\n",
    "Total number of words in the entire dataset\n",
    "\"\"\";"
   ]
  },
  {
   "cell_type": "code",
   "execution_count": 33,
   "id": "d4e86e02",
   "metadata": {},
   "outputs": [
    {
     "name": "stdout",
     "output_type": "stream",
     "text": [
      "Number of words with 0 frequency in class business : 17538\n",
      "Percentage of words with 0 frequency in class business : 59.61%\n",
      "Number of words with 0 frequency in class entertainment : 17746\n",
      "Percentage of words with 0 frequency in class entertainment : 60.32%\n",
      "Number of words with 0 frequency in class politics : 18201\n",
      "Percentage of words with 0 frequency in class politics : 61.86%\n",
      "Number of words with 0 frequency in class sport : 18850\n",
      "Percentage of words with 0 frequency in class sport : 64.07%\n",
      "Number of words with 0 frequency in class tech : 17323\n",
      "Percentage of words with 0 frequency in class tech : 58.88%\n"
     ]
    }
   ],
   "source": [
    "# i) number and percentage of words with a frequency of 0 in each class\n",
    "\n",
    "def i():\n",
    "    def get_number_and_percentage_words_0_frequency(X, targets, files):\n",
    "        x, y = X.shape\n",
    "        res = []\n",
    "        for i in files.target_names:\n",
    "            summed = np.sum(X[files.target == targets.index(i)], axis=0)\n",
    "            j = summed[summed == 0][0].size\n",
    "            res.append((j, j/y * 100))\n",
    "        return res\n",
    "\n",
    "    num_per_0_freq = get_number_and_percentage_words_0_frequency(X, targets, files)\n",
    "    for i in range(len(files.target_names)):\n",
    "        print('Number of words with 0 frequency in class {} : {}'.format(files.target_names[i], num_per_0_freq[i][0]))\n",
    "        print('Percentage of words with 0 frequency in class {} : {:.2f}%'.format(files.target_names[i], num_per_0_freq[i][1]))\n",
    "\n",
    "\n",
    "    with open(\"bbc-performance.txt\", \"a\") as myfile:\n",
    "        myfile.write('i) number and percentage of words with a frequency of 0 in each class')\n",
    "        myfile.write('\\n')\n",
    "        for i in range(len(files.target_names)):\n",
    "            myfile.write('Number of words with 0 frequency in class {} : {}'.format(files.target_names[i], num_per_0_freq[i][0]))\n",
    "            myfile.write(\"\\n\")\n",
    "            myfile.write('Percentage of words with 0 frequency in class {} : {:.2f}%'.format(files.target_names[i], num_per_0_freq[i][1]))\n",
    "            myfile.write(\"\\n\")\n",
    "        myfile.write(\"\\n\")\n",
    "\n",
    "i()\n",
    "\n",
    "\"\"\"\n",
    "When looking at class business, 59.6% of the words in the whole corpus do not come from class business\n",
    "\"\"\";"
   ]
  },
  {
   "cell_type": "code",
   "execution_count": 35,
   "id": "d7cc0052",
   "metadata": {},
   "outputs": [
    {
     "name": "stdout",
     "output_type": "stream",
     "text": [
      "Number of words with 1 frequency in corpus: 10005\n",
      "Percentage of words with 1 frequency in corpus: 34.006322014887324%\n"
     ]
    }
   ],
   "source": [
    "# j) number and percentage of words with a frequency of 1 in the corpus\n",
    "\n",
    "def j():\n",
    "    def get_number_and_percentage_words_1_frequency(X):\n",
    "        x, y = X.shape\n",
    "        summed = np.sum(X, axis=0)\n",
    "        j = summed[summed == 1][0].size\n",
    "        return (j, j/y * 100)\n",
    "        return res\n",
    "\n",
    "    num_per_1_freq = get_number_and_percentage_words_1_frequency(X)\n",
    "    print('Number of words with 1 frequency in corpus: {}'.format(num_per_1_freq[0]))\n",
    "    print('Percentage of words with 1 frequency in corpus: {}%'.format(num_per_1_freq[1]))\n",
    "\n",
    "    with open(\"bbc-performance.txt\", \"a\") as myfile:\n",
    "        myfile.write('j) number and percentage of words with a frequency of 1 in the corpus')\n",
    "        myfile.write('\\n')\n",
    "        myfile.write(('Number of words with 1 frequency in corpus: {}'.format(num_per_1_freq[0])))\n",
    "        myfile.write(\"\\n\")\n",
    "        myfile.write(('Percentage of words with 1 frequency in corpus: {}%'.format(num_per_1_freq[1])))\n",
    "        myfile.write(\"\\n\")\n",
    "        myfile.write(\"\\n\")\n",
    "\n",
    "j()"
   ]
  },
  {
   "cell_type": "code",
   "execution_count": 37,
   "id": "596b2f04",
   "metadata": {},
   "outputs": [
    {
     "name": "stdout",
     "output_type": "stream",
     "text": [
      "1st favorite word: the, log-prob: -2.7656552591367776\n",
      "2nd favorite word: to, log-prob: -3.505669915078643\n"
     ]
    }
   ],
   "source": [
    "# k) 2 favorite words and their log-prob\n",
    "\n",
    "def k():\n",
    "    def get_n_fav_word(X, vectorizer, n):\n",
    "        summed = np.sum(X, axis=0)\n",
    "        n_index = np.argsort(summed)[0, -n]\n",
    "        return (vectorizer.get_feature_names()[n_index], np.log(summed[0, n_index] / get_word_tokens_corpus(X)))\n",
    "\n",
    "    print('1st favorite word: {}, log-prob: {}'.format(*get_n_fav_word(X, vectorizer, 1)))\n",
    "    print('2nd favorite word: {}, log-prob: {}'.format(*get_n_fav_word(X, vectorizer, 2)))\n",
    "\n",
    "\n",
    "    with open(\"bbc-performance.txt\", \"a\") as myfile:\n",
    "        myfile.write('k) 2 favorite words and their log-prob')\n",
    "        myfile.write('\\n')\n",
    "        myfile.write('1st favorite word: {}, log-prob: {}'.format(*get_n_fav_word(X, vectorizer, 1)))\n",
    "        myfile.write('\\n')\n",
    "        myfile.write('2nd favorite word: {}, log-prob: {}'.format(*get_n_fav_word(X, vectorizer, 2)))    \n",
    "        myfile.write(\"\\n\")\n",
    "        myfile.write(\"\\n\")\n",
    "\n",
    "k()\n",
    "\n",
    "\"\"\"\n",
    "log-prob: number of times this word is present divided by all words in corpus, probability of that word in the corpus\n",
    "\"\"\";"
   ]
  },
  {
   "cell_type": "markdown",
   "id": "70a9ef1f",
   "metadata": {},
   "source": [
    "8. Redo steps 6 and 7 without changing anything (do not redo step 5, the dataset split). Change the model name to something like “MultinomialNB default values, try 2” and append the results to the ﬁle bbc-performance.txt."
   ]
  },
  {
   "cell_type": "code",
   "execution_count": 38,
   "id": "0958dc7e",
   "metadata": {},
   "outputs": [
    {
     "name": "stdout",
     "output_type": "stream",
     "text": [
      "{'alpha': 1, 'class_prior': None, 'fit_prior': True}\n",
      "               precision    recall  f1-score   support\n",
      "\n",
      "     business       0.98      0.97      0.97        98\n",
      "entertainment       0.99      0.97      0.98        73\n",
      "     politics       0.97      0.99      0.98        91\n",
      "        sport       1.00      0.99      0.99        99\n",
      "         tech       0.99      1.00      0.99        84\n",
      "\n",
      "     accuracy                           0.98       445\n",
      "    macro avg       0.98      0.98      0.98       445\n",
      " weighted avg       0.98      0.98      0.98       445\n",
      "\n",
      "Accuracy: 0.9842696629213483\n",
      "Macro-average F1: 0.9841873773712969\n",
      "Weighted-average F1: 0.9841873773712969\n",
      "Priors of each class\n",
      "business : 0.2292134831460674\n",
      "entertainment : 0.17348314606741572\n",
      "politics : 0.18741573033707865\n",
      "sport : 0.22966292134831462\n",
      "tech : 0.1802247191011236\n",
      "29421\n",
      "business : 164663\n",
      "entertainment : 124893\n",
      "politics : 185208\n",
      "sport : 162953\n",
      "tech : 198640\n",
      "836357\n",
      "Number of words with 0 frequency in class business : 17538\n",
      "Percentage of words with 0 frequency in class business : 59.61%\n",
      "Number of words with 0 frequency in class entertainment : 17746\n",
      "Percentage of words with 0 frequency in class entertainment : 60.32%\n",
      "Number of words with 0 frequency in class politics : 18201\n",
      "Percentage of words with 0 frequency in class politics : 61.86%\n",
      "Number of words with 0 frequency in class sport : 18850\n",
      "Percentage of words with 0 frequency in class sport : 64.07%\n",
      "Number of words with 0 frequency in class tech : 17323\n",
      "Percentage of words with 0 frequency in class tech : 58.88%\n",
      "Number of words with 1 frequency in corpus: 10005\n",
      "Percentage of words with 1 frequency in corpus: 34.006322014887324%\n",
      "1st favorite word: the, log-prob: -2.7656552591367776\n",
      "2nd favorite word: to, log-prob: -3.505669915078643\n"
     ]
    },
    {
     "data": {
      "image/png": "[encoded data removed]",
      "text/plain": [
       "<Figure size 288x288 with 2 Axes>"
      ]
     },
     "metadata": {
      "needs_background": "light"
     },
     "output_type": "display_data"
    }
   ],
   "source": [
    "mb = train_MultinomialNB(X_train, y_train)\n",
    "a('a) Multi-nomialNB default values, try 2')\n",
    "y_pred = b()\n",
    "c(y_pred)\n",
    "d(y_pred)\n",
    "e()\n",
    "f()\n",
    "g()\n",
    "h()\n",
    "i()\n",
    "j()\n",
    "k()"
   ]
  },
  {
   "cell_type": "markdown",
   "id": "a7dcc30a",
   "metadata": {},
   "source": [
    "9. Redo steps 6 and 7 again, but this time, change the smoothing value to 0.0001. Append the results at the\n",
    "end of bbc-performance.txt."
   ]
  },
  {
   "cell_type": "code",
   "execution_count": 39,
   "id": "10fa8c81",
   "metadata": {},
   "outputs": [
    {
     "name": "stdout",
     "output_type": "stream",
     "text": [
      "{'alpha': 0.0001, 'class_prior': None, 'fit_prior': True}\n",
      "               precision    recall  f1-score   support\n",
      "\n",
      "     business       0.98      0.95      0.96        98\n",
      "entertainment       1.00      0.97      0.99        73\n",
      "     politics       0.95      0.99      0.97        91\n",
      "        sport       1.00      1.00      1.00        99\n",
      "         tech       0.99      1.00      0.99        84\n",
      "\n",
      "     accuracy                           0.98       445\n",
      "    macro avg       0.98      0.98      0.98       445\n",
      " weighted avg       0.98      0.98      0.98       445\n",
      "\n",
      "Accuracy: 0.9820224719101124\n",
      "Macro-average F1: 0.982333291355971\n",
      "Weighted-average F1: 0.982333291355971\n",
      "Priors of each class\n",
      "business : 0.2292134831460674\n",
      "entertainment : 0.17348314606741572\n",
      "politics : 0.18741573033707865\n",
      "sport : 0.22966292134831462\n",
      "tech : 0.1802247191011236\n",
      "29421\n",
      "business : 164663\n",
      "entertainment : 124893\n",
      "politics : 185208\n",
      "sport : 162953\n",
      "tech : 198640\n",
      "836357\n",
      "Number of words with 0 frequency in class business : 17538\n",
      "Percentage of words with 0 frequency in class business : 59.61%\n",
      "Number of words with 0 frequency in class entertainment : 17746\n",
      "Percentage of words with 0 frequency in class entertainment : 60.32%\n",
      "Number of words with 0 frequency in class politics : 18201\n",
      "Percentage of words with 0 frequency in class politics : 61.86%\n",
      "Number of words with 0 frequency in class sport : 18850\n",
      "Percentage of words with 0 frequency in class sport : 64.07%\n",
      "Number of words with 0 frequency in class tech : 17323\n",
      "Percentage of words with 0 frequency in class tech : 58.88%\n",
      "Number of words with 1 frequency in corpus: 10005\n",
      "Percentage of words with 1 frequency in corpus: 34.006322014887324%\n",
      "1st favorite word: the, log-prob: -2.7656552591367776\n",
      "2nd favorite word: to, log-prob: -3.505669915078643\n"
     ]
    },
    {
     "data": {
      "image/png": "[encoded data removed]",
      "text/plain": [
       "<Figure size 288x288 with 2 Axes>"
      ]
     },
     "metadata": {
      "needs_background": "light"
     },
     "output_type": "display_data"
    }
   ],
   "source": [
    "mb = train_MultinomialNB(X_train, y_train, smoothing=0.0001)\n",
    "a('a) Multi-nomialNB smoothing=0.0001, try 1')\n",
    "y_pred = b()\n",
    "c(y_pred)\n",
    "d(y_pred)\n",
    "e()\n",
    "f()\n",
    "g()\n",
    "h()\n",
    "i()\n",
    "j()\n",
    "k()"
   ]
  },
  {
   "cell_type": "markdown",
   "id": "248daef1",
   "metadata": {},
   "source": [
    "10. Redo steps 6 and 7, but this time, change the smoothing value to 0.9. Append the results at the end of\n",
    "bbc-performance.txt."
   ]
  },
  {
   "cell_type": "code",
   "execution_count": 22,
   "id": "97bb541d",
   "metadata": {},
   "outputs": [
    {
     "name": "stdout",
     "output_type": "stream",
     "text": [
      "{'alpha': 0.9, 'class_prior': None, 'fit_prior': True}\n",
      "               precision    recall  f1-score   support\n",
      "\n",
      "     business       0.98      0.95      0.96        98\n",
      "entertainment       0.97      0.97      0.97        62\n",
      "     politics       0.94      0.99      0.96        79\n",
      "        sport       1.00      0.99      1.00       119\n",
      "         tech       0.98      0.98      0.98        87\n",
      "\n",
      "     accuracy                           0.98       445\n",
      "    macro avg       0.97      0.97      0.97       445\n",
      " weighted avg       0.98      0.98      0.98       445\n",
      "\n",
      "Accuracy: 0.9752808988764045\n",
      "Macro-average F1: 0.9734455106730386\n",
      "Weighted-average F1: 0.9734455106730386\n",
      "Priors of each class\n",
      "business : 0.2292134831460674\n",
      "entertainment : 0.17348314606741572\n",
      "politics : 0.18741573033707865\n",
      "sport : 0.22966292134831462\n",
      "tech : 0.1802247191011236\n",
      "29421\n",
      "business : 164663\n",
      "entertainment : 124893\n",
      "politics : 185208\n",
      "sport : 162953\n",
      "tech : 198640\n",
      "836357\n",
      "Number of words with 0 frequency in class business : 17538\n",
      "Percentage of words with 0 frequency in class business : 59.61%\n",
      "Number of words with 0 frequency in class entertainment : 17746\n",
      "Percentage of words with 0 frequency in class entertainment : 60.32%\n",
      "Number of words with 0 frequency in class politics : 18201\n",
      "Percentage of words with 0 frequency in class politics : 61.86%\n",
      "Number of words with 0 frequency in class sport : 18850\n",
      "Percentage of words with 0 frequency in class sport : 64.07%\n",
      "Number of words with 0 frequency in class tech : 17323\n",
      "Percentage of words with 0 frequency in class tech : 58.88%\n",
      "Number of words with 1 frequency in corpus: 10005\n",
      "Percentage of words with 1 frequency in corpus: 34.006322014887324%\n",
      "1st favorite word: the, log-prob: -2.7656552591367776\n",
      "2nd favorite word: to, log-prob: -3.505669915078643\n"
     ]
    },
    {
     "data": {
      "image/png": "[encoded data removed]",
      "text/plain": [
       "<Figure size 288x288 with 2 Axes>"
      ]
     },
     "metadata": {
      "needs_background": "light"
     },
     "output_type": "display_data"
    }
   ],
   "source": [
    "mb = train_MultinomialNB(X_train, y_train, smoothing=0.9)\n",
    "a('a) Multi-nomialNB smoothing=0.9, try 1')\n",
    "y_pred = b()\n",
    "c(y_pred)\n",
    "d(y_pred)\n",
    "e()\n",
    "f()\n",
    "g()\n",
    "h()\n",
    "i()\n",
    "j()\n",
    "k()"
   ]
  }
 ],
 "metadata": {
  "kernelspec": {
   "display_name": "Python 3 (ipykernel)",
   "language": "python",
   "name": "python3"
  },
  "language_info": {
   "codemirror_mode": {
    "name": "ipython",
    "version": 3
   },
   "file_extension": ".py",
   "mimetype": "text/x-python",
   "name": "python",
   "nbconvert_exporter": "python",
   "pygments_lexer": "ipython3",
   "version": "3.9.5"
  }
 },
 "nbformat": 4,
 "nbformat_minor": 5
}
